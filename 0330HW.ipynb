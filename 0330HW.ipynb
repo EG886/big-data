{
  "nbformat": 4,
  "nbformat_minor": 0,
  "metadata": {
    "colab": {
      "name": "0330HW.ipynb",
      "provenance": [],
      "collapsed_sections": [],
      "include_colab_link": true
    },
    "kernelspec": {
      "display_name": "R",
      "name": "ir"
    }
  },
  "cells": [
    {
      "cell_type": "markdown",
      "metadata": {
        "id": "view-in-github",
        "colab_type": "text"
      },
      "source": [
        "<a href=\"https://colab.research.google.com/github/EG886/big-data/blob/main/0330HW.ipynb\" target=\"_parent\"><img src=\"https://colab.research.google.com/assets/colab-badge.svg\" alt=\"Open In Colab\"/></a>"
      ]
    },
    {
      "cell_type": "code",
      "metadata": {
        "colab": {
          "base_uri": "https://localhost:8080/"
        },
        "id": "X4AYW4taauOv",
        "outputId": "a29304a1-05ee-483e-bf73-cfdf3141c10e"
      },
      "source": [
        "install.packages(\"rJava\")\n",
        "install.packages(\"jiebaR\")\n",
        "install.packages(\"tmcn\")\n",
        "install.packages(\"dplyr\")\n",
        "install.packages(\"lubridate\")\n",
        "install.packages(\"stringr\")\n",
        "install.packages(\"wordcloud\")\n",
        "install.packages(\"Rwordseg\",repos =\"http://R-Forge.R-project.org\")"
      ],
      "execution_count": null,
      "outputs": [
        {
          "output_type": "stream",
          "text": [
            "Installing package into ‘/usr/local/lib/R/site-library’\n",
            "(as ‘lib’ is unspecified)\n",
            "\n",
            "Installing package into ‘/usr/local/lib/R/site-library’\n",
            "(as ‘lib’ is unspecified)\n",
            "\n",
            "Installing package into ‘/usr/local/lib/R/site-library’\n",
            "(as ‘lib’ is unspecified)\n",
            "\n",
            "Installing package into ‘/usr/local/lib/R/site-library’\n",
            "(as ‘lib’ is unspecified)\n",
            "\n",
            "Installing package into ‘/usr/local/lib/R/site-library’\n",
            "(as ‘lib’ is unspecified)\n",
            "\n",
            "Installing package into ‘/usr/local/lib/R/site-library’\n",
            "(as ‘lib’ is unspecified)\n",
            "\n",
            "Installing package into ‘/usr/local/lib/R/site-library’\n",
            "(as ‘lib’ is unspecified)\n",
            "\n",
            "Installing package into ‘/usr/local/lib/R/site-library’\n",
            "(as ‘lib’ is unspecified)\n",
            "\n",
            "Warning message:\n",
            "“dependency ‘HMM’ is not available”\n",
            "Warning message in install.packages(\"Rwordseg\", repos = \"http://R-Forge.R-project.org\"):\n",
            "“installation of package ‘Rwordseg’ had non-zero exit status”\n"
          ],
          "name": "stderr"
        }
      ]
    },
    {
      "cell_type": "code",
      "metadata": {
        "id": "JRqDIGtja2pd",
        "colab": {
          "base_uri": "https://localhost:8080/"
        },
        "outputId": "90618944-d68f-47c8-ab1d-bf2e01d1939b"
      },
      "source": [
        "library(jiebaR)\n",
        "library(dplyr)\n",
        "library(lubridate)\n",
        "library(stringr)\n",
        "library(wordcloud)"
      ],
      "execution_count": null,
      "outputs": [
        {
          "output_type": "stream",
          "text": [
            "Loading required package: jiebaRD\n",
            "\n",
            "\n",
            "Attaching package: ‘dplyr’\n",
            "\n",
            "\n",
            "The following objects are masked from ‘package:stats’:\n",
            "\n",
            "    filter, lag\n",
            "\n",
            "\n",
            "The following objects are masked from ‘package:base’:\n",
            "\n",
            "    intersect, setdiff, setequal, union\n",
            "\n",
            "\n",
            "Warning message in system(\"timedatectl\", intern = TRUE):\n",
            "“running command 'timedatectl' had status 1”\n",
            "\n",
            "Attaching package: ‘lubridate’\n",
            "\n",
            "\n",
            "The following objects are masked from ‘package:base’:\n",
            "\n",
            "    date, intersect, setdiff, union\n",
            "\n",
            "\n",
            "Loading required package: RColorBrewer\n",
            "\n"
          ],
          "name": "stderr"
        }
      ]
    },
    {
      "cell_type": "code",
      "metadata": {
        "id": "1Sch74Bfg0WW"
      },
      "source": [
        "content <-\"台灣高等檢察署科技偵查中心今發布毒情分析報告指出，近期查獲大麻案件數、株數增多，另新興毒品氾濫，施用者多為青少年，且會將摻有多種毒品的咖啡包和笑氣一同使用，另「吩坦尼」來勢洶洶，國外已有多起死亡案件。高檢署指出，根據分析國內毒品情形，毒品主要來源為「境外」，以大陸輸入新興毒品和先驅原料為大宗；再者，查獲大麻案件數、大麻株數均增長，沒有因為新冠肺炎而減緩，來自美加地區夾藏大麻類毒品案件持續上升，去年創下歷史紀錄，今年到目前為止也查獲4000株大麻，情勢不容小覷。高檢署也指出，去年在國內盛行新興毒品以喵喵、喵喵的先驅原料為主，今年情勢仍有待關注；另從分析國際毒品情勢得知，新興毒品吩坦尼來勢洶洶，此一毒品在歐美濫用且致死案件暴增，它也具有藥性強、成本低的特性，雖然目前國內尚未有查獲案件，但未來是否會成為下一個流行的新興毒品，也有待觀察。\""
      ],
      "execution_count": null,
      "outputs": []
    },
    {
      "cell_type": "code",
      "metadata": {
        "colab": {
          "base_uri": "https://localhost:8080/",
          "height": 68
        },
        "id": "Yy1kDGRg0VkH",
        "outputId": "367f1508-a149-4195-83a4-6b4e04282ed1"
      },
      "source": [
        "content"
      ],
      "execution_count": null,
      "outputs": [
        {
          "output_type": "display_data",
          "data": {
            "text/plain": [
              "[1] \"台灣高等檢察署科技偵查中心今發布毒情分析報告指出，近期查獲大麻案件數、株數增多，另新興毒品氾濫，施用者多為青少年，且會將摻有多種毒品的咖啡包和笑氣一同使用，另「吩坦尼」來勢洶洶，國外已有多起死亡案件。高檢署指出，根據分析國內毒品情形，毒品主要來源為「境外」，以大陸輸入新興毒品和先驅原料為大宗；再者，查獲大麻案件數、大麻株數均增長，沒有因為新冠肺炎而減緩，來自美加地區夾藏大麻類毒品案件持續上升，去年創下歷史紀錄，今年到目前為止也查獲4000株大麻，情勢不容小覷。高檢署也指出，去年在國內盛行新興毒品以喵喵、喵喵的先驅原料為主，今年情勢仍有待關注；另從分析國際毒品情勢得知，新興毒品吩坦尼來勢洶洶，此一毒品在歐美濫用且致死案件暴增，它也具有藥性強、成本低的特性，雖然目前國內尚未有查獲案件，但未來是否會成為下一個流行的新興毒品，也有待觀察。\""
            ],
            "text/latex": "'台灣高等檢察署科技偵查中心今發布毒情分析報告指出，近期查獲大麻案件數、株數增多，另新興毒品氾濫，施用者多為青少年，且會將摻有多種毒品的咖啡包和笑氣一同使用，另「吩坦尼」來勢洶洶，國外已有多起死亡案件。高檢署指出，根據分析國內毒品情形，毒品主要來源為「境外」，以大陸輸入新興毒品和先驅原料為大宗；再者，查獲大麻案件數、大麻株數均增長，沒有因為新冠肺炎而減緩，來自美加地區夾藏大麻類毒品案件持續上升，去年創下歷史紀錄，今年到目前為止也查獲4000株大麻，情勢不容小覷。高檢署也指出，去年在國內盛行新興毒品以喵喵、喵喵的先驅原料為主，今年情勢仍有待關注；另從分析國際毒品情勢得知，新興毒品吩坦尼來勢洶洶，此一毒品在歐美濫用且致死案件暴增，它也具有藥性強、成本低的特性，雖然目前國內尚未有查獲案件，但未來是否會成為下一個流行的新興毒品，也有待觀察。'",
            "text/markdown": "'台灣高等檢察署科技偵查中心今發布毒情分析報告指出，近期查獲大麻案件數、株數增多，另新興毒品氾濫，施用者多為青少年，且會將摻有多種毒品的咖啡包和笑氣一同使用，另「吩坦尼」來勢洶洶，國外已有多起死亡案件。高檢署指出，根據分析國內毒品情形，毒品主要來源為「境外」，以大陸輸入新興毒品和先驅原料為大宗；再者，查獲大麻案件數、大麻株數均增長，沒有因為新冠肺炎而減緩，來自美加地區夾藏大麻類毒品案件持續上升，去年創下歷史紀錄，今年到目前為止也查獲4000株大麻，情勢不容小覷。高檢署也指出，去年在國內盛行新興毒品以喵喵、喵喵的先驅原料為主，今年情勢仍有待關注；另從分析國際毒品情勢得知，新興毒品吩坦尼來勢洶洶，此一毒品在歐美濫用且致死案件暴增，它也具有藥性強、成本低的特性，雖然目前國內尚未有查獲案件，但未來是否會成為下一個流行的新興毒品，也有待觀察。'",
            "text/html": [
              "'台灣高等檢察署科技偵查中心今發布毒情分析報告指出，近期查獲大麻案件數、株數增多，另新興毒品氾濫，施用者多為青少年，且會將摻有多種毒品的咖啡包和笑氣一同使用，另「吩坦尼」來勢洶洶，國外已有多起死亡案件。高檢署指出，根據分析國內毒品情形，毒品主要來源為「境外」，以大陸輸入新興毒品和先驅原料為大宗；再者，查獲大麻案件數、大麻株數均增長，沒有因為新冠肺炎而減緩，來自美加地區夾藏大麻類毒品案件持續上升，去年創下歷史紀錄，今年到目前為止也查獲4000株大麻，情勢不容小覷。高檢署也指出，去年在國內盛行新興毒品以喵喵、喵喵的先驅原料為主，今年情勢仍有待關注；另從分析國際毒品情勢得知，新興毒品吩坦尼來勢洶洶，此一毒品在歐美濫用且致死案件暴增，它也具有藥性強、成本低的特性，雖然目前國內尚未有查獲案件，但未來是否會成為下一個流行的新興毒品，也有待觀察。'"
            ]
          },
          "metadata": {
            "tags": []
          }
        }
      ]
    },
    {
      "cell_type": "code",
      "metadata": {
        "id": "AdpD-SaN0Z3M"
      },
      "source": [
        "cutter <- worker(bylines = F)"
      ],
      "execution_count": null,
      "outputs": []
    },
    {
      "cell_type": "code",
      "metadata": {
        "colab": {
          "base_uri": "https://localhost:8080/",
          "height": 102
        },
        "id": "iGfDONbm0ell",
        "outputId": "843f3e66-ae83-497d-86bc-4c7b1b216f2e"
      },
      "source": [
        "cutter[content]"
      ],
      "execution_count": null,
      "outputs": [
        {
          "output_type": "display_data",
          "data": {
            "text/plain": [
              "  [1] \"台灣\"     \"高等\"     \"檢察署\"   \"科技\"     \"偵查\"     \"中心\"    \n",
              "  [7] \"今發布\"   \"毒情\"     \"分析報告\" \"指出\"     \"近期\"     \"查獲\"    \n",
              " [13] \"大麻\"     \"案件\"     \"數\"       \"株數\"     \"增多\"     \"另\"      \n",
              " [19] \"新興\"     \"毒品\"     \"氾濫\"     \"施用\"     \"者\"       \"多\"      \n",
              " [25] \"為\"       \"青少年\"   \"且會將\"   \"摻\"       \"有\"       \"多種\"    \n",
              " [31] \"毒品\"     \"的\"       \"咖啡\"     \"包\"       \"和\"       \"笑氣\"    \n",
              " [37] \"一同\"     \"使用\"     \"另\"       \"吩\"       \"坦尼\"     \"來勢洶洶\"\n",
              " [43] \"國外\"     \"已有\"     \"多起\"     \"死亡\"     \"案件\"     \"高檢\"    \n",
              " [49] \"署\"       \"指出\"     \"根據\"     \"分析\"     \"國內\"     \"毒品\"    \n",
              " [55] \"情形\"     \"毒品\"     \"主要\"     \"來源\"     \"為\"       \"境外\"    \n",
              " [61] \"以\"       \"大陸\"     \"輸入\"     \"新興\"     \"毒品\"     \"和\"      \n",
              " [67] \"先驅\"     \"原料\"     \"為\"       \"大宗\"     \"再者\"     \"查獲\"    \n",
              " [73] \"大麻\"     \"案件\"     \"數\"       \"大麻\"     \"株數\"     \"均\"      \n",
              " [79] \"增長\"     \"沒有\"     \"因為\"     \"新冠\"     \"肺炎\"     \"而\"      \n",
              " [85] \"減緩\"     \"來自\"     \"美加地區\" \"夾藏\"     \"大麻類\"   \"毒品\"    \n",
              " [91] \"案件\"     \"持續上升\" \"去年\"     \"創下\"     \"歷史紀錄\" \"今年\"    \n",
              " [97] \"到\"       \"目前\"     \"為止\"     \"也\"       \"查獲\"     \"4000\"    \n",
              "[103] \"株\"       \"大麻\"     \"情勢\"     \"不容\"     \"小覷\"     \"高檢\"    \n",
              "[109] \"署\"       \"也\"       \"指出\"     \"去年\"     \"在\"       \"國內\"    \n",
              "[115] \"盛行\"     \"新興\"     \"毒品\"     \"以\"       \"喵\"       \"喵\"      \n",
              "[121] \"喵\"       \"喵\"       \"的\"       \"先驅\"     \"原料\"     \"為主\"    \n",
              "[127] \"今年\"     \"情勢\"     \"仍\"       \"有待\"     \"關注\"     \"另\"      \n",
              "[133] \"從\"       \"分析\"     \"國際\"     \"毒品\"     \"情勢\"     \"得知\"    \n",
              "[139] \"新興\"     \"毒品\"     \"吩\"       \"坦尼\"     \"來勢洶洶\" \"此一\"    \n",
              "[145] \"毒品\"     \"在\"       \"歐美\"     \"濫用\"     \"且\"       \"致死\"    \n",
              "[151] \"案件\"     \"暴增\"     \"它\"       \"也\"       \"具有\"     \"藥性\"    \n",
              "[157] \"強\"       \"成本低\"   \"的\"       \"特性\"     \"雖然\"     \"目前\"    \n",
              "[163] \"國內\"     \"尚未\"     \"有\"       \"查獲\"     \"案件\"     \"但\"      \n",
              "[169] \"未來\"     \"是否\"     \"會成\"     \"為\"       \"下\"       \"一個\"    \n",
              "[175] \"流行\"     \"的\"       \"新興\"     \"毒品\"     \"也\"       \"有待\"    \n",
              "[181] \"觀察\"    "
            ],
            "text/latex": "\\begin{enumerate*}\n\\item '台灣'\n\\item '高等'\n\\item '檢察署'\n\\item '科技'\n\\item '偵查'\n\\item '中心'\n\\item '今發布'\n\\item '毒情'\n\\item '分析報告'\n\\item '指出'\n\\item '近期'\n\\item '查獲'\n\\item '大麻'\n\\item '案件'\n\\item '數'\n\\item '株數'\n\\item '增多'\n\\item '另'\n\\item '新興'\n\\item '毒品'\n\\item '氾濫'\n\\item '施用'\n\\item '者'\n\\item '多'\n\\item '為'\n\\item '青少年'\n\\item '且會將'\n\\item '摻'\n\\item '有'\n\\item '多種'\n\\item '毒品'\n\\item '的'\n\\item '咖啡'\n\\item '包'\n\\item '和'\n\\item '笑氣'\n\\item '一同'\n\\item '使用'\n\\item '另'\n\\item '吩'\n\\item '坦尼'\n\\item '來勢洶洶'\n\\item '國外'\n\\item '已有'\n\\item '多起'\n\\item '死亡'\n\\item '案件'\n\\item '高檢'\n\\item '署'\n\\item '指出'\n\\item '根據'\n\\item '分析'\n\\item '國內'\n\\item '毒品'\n\\item '情形'\n\\item '毒品'\n\\item '主要'\n\\item '來源'\n\\item '為'\n\\item '境外'\n\\item '以'\n\\item '大陸'\n\\item '輸入'\n\\item '新興'\n\\item '毒品'\n\\item '和'\n\\item '先驅'\n\\item '原料'\n\\item '為'\n\\item '大宗'\n\\item '再者'\n\\item '查獲'\n\\item '大麻'\n\\item '案件'\n\\item '數'\n\\item '大麻'\n\\item '株數'\n\\item '均'\n\\item '增長'\n\\item '沒有'\n\\item '因為'\n\\item '新冠'\n\\item '肺炎'\n\\item '而'\n\\item '減緩'\n\\item '來自'\n\\item '美加地區'\n\\item '夾藏'\n\\item '大麻類'\n\\item '毒品'\n\\item '案件'\n\\item '持續上升'\n\\item '去年'\n\\item '創下'\n\\item '歷史紀錄'\n\\item '今年'\n\\item '到'\n\\item '目前'\n\\item '為止'\n\\item '也'\n\\item '查獲'\n\\item '4000'\n\\item '株'\n\\item '大麻'\n\\item '情勢'\n\\item '不容'\n\\item '小覷'\n\\item '高檢'\n\\item '署'\n\\item '也'\n\\item '指出'\n\\item '去年'\n\\item '在'\n\\item '國內'\n\\item '盛行'\n\\item '新興'\n\\item '毒品'\n\\item '以'\n\\item '喵'\n\\item '喵'\n\\item '喵'\n\\item '喵'\n\\item '的'\n\\item '先驅'\n\\item '原料'\n\\item '為主'\n\\item '今年'\n\\item '情勢'\n\\item '仍'\n\\item '有待'\n\\item '關注'\n\\item '另'\n\\item '從'\n\\item '分析'\n\\item '國際'\n\\item '毒品'\n\\item '情勢'\n\\item '得知'\n\\item '新興'\n\\item '毒品'\n\\item '吩'\n\\item '坦尼'\n\\item '來勢洶洶'\n\\item '此一'\n\\item '毒品'\n\\item '在'\n\\item '歐美'\n\\item '濫用'\n\\item '且'\n\\item '致死'\n\\item '案件'\n\\item '暴增'\n\\item '它'\n\\item '也'\n\\item '具有'\n\\item '藥性'\n\\item '強'\n\\item '成本低'\n\\item '的'\n\\item '特性'\n\\item '雖然'\n\\item '目前'\n\\item '國內'\n\\item '尚未'\n\\item '有'\n\\item '查獲'\n\\item '案件'\n\\item '但'\n\\item '未來'\n\\item '是否'\n\\item '會成'\n\\item '為'\n\\item '下'\n\\item '一個'\n\\item '流行'\n\\item '的'\n\\item '新興'\n\\item '毒品'\n\\item '也'\n\\item '有待'\n\\item '觀察'\n\\end{enumerate*}\n",
            "text/markdown": "1. '台灣'\n2. '高等'\n3. '檢察署'\n4. '科技'\n5. '偵查'\n6. '中心'\n7. '今發布'\n8. '毒情'\n9. '分析報告'\n10. '指出'\n11. '近期'\n12. '查獲'\n13. '大麻'\n14. '案件'\n15. '數'\n16. '株數'\n17. '增多'\n18. '另'\n19. '新興'\n20. '毒品'\n21. '氾濫'\n22. '施用'\n23. '者'\n24. '多'\n25. '為'\n26. '青少年'\n27. '且會將'\n28. '摻'\n29. '有'\n30. '多種'\n31. '毒品'\n32. '的'\n33. '咖啡'\n34. '包'\n35. '和'\n36. '笑氣'\n37. '一同'\n38. '使用'\n39. '另'\n40. '吩'\n41. '坦尼'\n42. '來勢洶洶'\n43. '國外'\n44. '已有'\n45. '多起'\n46. '死亡'\n47. '案件'\n48. '高檢'\n49. '署'\n50. '指出'\n51. '根據'\n52. '分析'\n53. '國內'\n54. '毒品'\n55. '情形'\n56. '毒品'\n57. '主要'\n58. '來源'\n59. '為'\n60. '境外'\n61. '以'\n62. '大陸'\n63. '輸入'\n64. '新興'\n65. '毒品'\n66. '和'\n67. '先驅'\n68. '原料'\n69. '為'\n70. '大宗'\n71. '再者'\n72. '查獲'\n73. '大麻'\n74. '案件'\n75. '數'\n76. '大麻'\n77. '株數'\n78. '均'\n79. '增長'\n80. '沒有'\n81. '因為'\n82. '新冠'\n83. '肺炎'\n84. '而'\n85. '減緩'\n86. '來自'\n87. '美加地區'\n88. '夾藏'\n89. '大麻類'\n90. '毒品'\n91. '案件'\n92. '持續上升'\n93. '去年'\n94. '創下'\n95. '歷史紀錄'\n96. '今年'\n97. '到'\n98. '目前'\n99. '為止'\n100. '也'\n101. '查獲'\n102. '4000'\n103. '株'\n104. '大麻'\n105. '情勢'\n106. '不容'\n107. '小覷'\n108. '高檢'\n109. '署'\n110. '也'\n111. '指出'\n112. '去年'\n113. '在'\n114. '國內'\n115. '盛行'\n116. '新興'\n117. '毒品'\n118. '以'\n119. '喵'\n120. '喵'\n121. '喵'\n122. '喵'\n123. '的'\n124. '先驅'\n125. '原料'\n126. '為主'\n127. '今年'\n128. '情勢'\n129. '仍'\n130. '有待'\n131. '關注'\n132. '另'\n133. '從'\n134. '分析'\n135. '國際'\n136. '毒品'\n137. '情勢'\n138. '得知'\n139. '新興'\n140. '毒品'\n141. '吩'\n142. '坦尼'\n143. '來勢洶洶'\n144. '此一'\n145. '毒品'\n146. '在'\n147. '歐美'\n148. '濫用'\n149. '且'\n150. '致死'\n151. '案件'\n152. '暴增'\n153. '它'\n154. '也'\n155. '具有'\n156. '藥性'\n157. '強'\n158. '成本低'\n159. '的'\n160. '特性'\n161. '雖然'\n162. '目前'\n163. '國內'\n164. '尚未'\n165. '有'\n166. '查獲'\n167. '案件'\n168. '但'\n169. '未來'\n170. '是否'\n171. '會成'\n172. '為'\n173. '下'\n174. '一個'\n175. '流行'\n176. '的'\n177. '新興'\n178. '毒品'\n179. '也'\n180. '有待'\n181. '觀察'\n\n\n",
            "text/html": [
              "<style>\n",
              ".list-inline {list-style: none; margin:0; padding: 0}\n",
              ".list-inline>li {display: inline-block}\n",
              ".list-inline>li:not(:last-child)::after {content: \"\\00b7\"; padding: 0 .5ex}\n",
              "</style>\n",
              "<ol class=list-inline><li>'台灣'</li><li>'高等'</li><li>'檢察署'</li><li>'科技'</li><li>'偵查'</li><li>'中心'</li><li>'今發布'</li><li>'毒情'</li><li>'分析報告'</li><li>'指出'</li><li>'近期'</li><li>'查獲'</li><li>'大麻'</li><li>'案件'</li><li>'數'</li><li>'株數'</li><li>'增多'</li><li>'另'</li><li>'新興'</li><li>'毒品'</li><li>'氾濫'</li><li>'施用'</li><li>'者'</li><li>'多'</li><li>'為'</li><li>'青少年'</li><li>'且會將'</li><li>'摻'</li><li>'有'</li><li>'多種'</li><li>'毒品'</li><li>'的'</li><li>'咖啡'</li><li>'包'</li><li>'和'</li><li>'笑氣'</li><li>'一同'</li><li>'使用'</li><li>'另'</li><li>'吩'</li><li>'坦尼'</li><li>'來勢洶洶'</li><li>'國外'</li><li>'已有'</li><li>'多起'</li><li>'死亡'</li><li>'案件'</li><li>'高檢'</li><li>'署'</li><li>'指出'</li><li>'根據'</li><li>'分析'</li><li>'國內'</li><li>'毒品'</li><li>'情形'</li><li>'毒品'</li><li>'主要'</li><li>'來源'</li><li>'為'</li><li>'境外'</li><li>'以'</li><li>'大陸'</li><li>'輸入'</li><li>'新興'</li><li>'毒品'</li><li>'和'</li><li>'先驅'</li><li>'原料'</li><li>'為'</li><li>'大宗'</li><li>'再者'</li><li>'查獲'</li><li>'大麻'</li><li>'案件'</li><li>'數'</li><li>'大麻'</li><li>'株數'</li><li>'均'</li><li>'增長'</li><li>'沒有'</li><li>'因為'</li><li>'新冠'</li><li>'肺炎'</li><li>'而'</li><li>'減緩'</li><li>'來自'</li><li>'美加地區'</li><li>'夾藏'</li><li>'大麻類'</li><li>'毒品'</li><li>'案件'</li><li>'持續上升'</li><li>'去年'</li><li>'創下'</li><li>'歷史紀錄'</li><li>'今年'</li><li>'到'</li><li>'目前'</li><li>'為止'</li><li>'也'</li><li>'查獲'</li><li>'4000'</li><li>'株'</li><li>'大麻'</li><li>'情勢'</li><li>'不容'</li><li>'小覷'</li><li>'高檢'</li><li>'署'</li><li>'也'</li><li>'指出'</li><li>'去年'</li><li>'在'</li><li>'國內'</li><li>'盛行'</li><li>'新興'</li><li>'毒品'</li><li>'以'</li><li>'喵'</li><li>'喵'</li><li>'喵'</li><li>'喵'</li><li>'的'</li><li>'先驅'</li><li>'原料'</li><li>'為主'</li><li>'今年'</li><li>'情勢'</li><li>'仍'</li><li>'有待'</li><li>'關注'</li><li>'另'</li><li>'從'</li><li>'分析'</li><li>'國際'</li><li>'毒品'</li><li>'情勢'</li><li>'得知'</li><li>'新興'</li><li>'毒品'</li><li>'吩'</li><li>'坦尼'</li><li>'來勢洶洶'</li><li>'此一'</li><li>'毒品'</li><li>'在'</li><li>'歐美'</li><li>'濫用'</li><li>'且'</li><li>'致死'</li><li>'案件'</li><li>'暴增'</li><li>'它'</li><li>'也'</li><li>'具有'</li><li>'藥性'</li><li>'強'</li><li>'成本低'</li><li>'的'</li><li>'特性'</li><li>'雖然'</li><li>'目前'</li><li>'國內'</li><li>'尚未'</li><li>'有'</li><li>'查獲'</li><li>'案件'</li><li>'但'</li><li>'未來'</li><li>'是否'</li><li>'會成'</li><li>'為'</li><li>'下'</li><li>'一個'</li><li>'流行'</li><li>'的'</li><li>'新興'</li><li>'毒品'</li><li>'也'</li><li>'有待'</li><li>'觀察'</li></ol>\n"
            ]
          },
          "metadata": {
            "tags": []
          }
        }
      ]
    },
    {
      "cell_type": "code",
      "metadata": {
        "id": "-TOohfeY0kvi"
      },
      "source": [
        "new_words <- c(\"毒品案件\",\"咖啡包\",\"毒品氾濫\",\"高檢署\",\"施用者\",\"吩坦尼\",\"喵喵\")\n",
        "for (i in 1:length(new_words)) {new_user_word(cutter, new_words[i])}"
      ],
      "execution_count": 18,
      "outputs": []
    },
    {
      "cell_type": "code",
      "metadata": {
        "id": "FZC9CxC00rh9"
      },
      "source": [
        "writeLines(new_words, \"new_words.txt\")"
      ],
      "execution_count": 19,
      "outputs": []
    },
    {
      "cell_type": "code",
      "metadata": {
        "id": "_-e6hEhN0vkz"
      },
      "source": [
        "stop_words <- c(\"仍\",\"且\",\"以\",\"為\",\"由\",\"但\",\"也\",\"與\",\"的\",\"從\",\"和\")\n",
        "writeLines(stop_words, \"stop_words.txt\")"
      ],
      "execution_count": 20,
      "outputs": []
    },
    {
      "cell_type": "code",
      "metadata": {
        "id": "OVIf5ZVh0ywC",
        "colab": {
          "base_uri": "https://localhost:8080/",
          "height": 139
        },
        "outputId": "9d9d23ee-b071-433b-ac48-689d656b020f"
      },
      "source": [
        "cutter <- worker(user = \"new_words.txt\", stop_word = \"stop_words.txt\", bylines = FALSE)\n",
        "seg_words <- cutter[content]\n",
        "seg_words"
      ],
      "execution_count": 21,
      "outputs": [
        {
          "output_type": "display_data",
          "data": {
            "text/plain": [
              "  [1] \"台灣\"     \"高等\"     \"檢察署\"   \"科技\"     \"偵查\"     \"中心\"    \n",
              "  [7] \"今發布\"   \"毒情\"     \"分析報告\" \"指出\"     \"近期\"     \"查獲\"    \n",
              " [13] \"大麻\"     \"案件\"     \"數\"       \"株數\"     \"增多\"     \"另\"      \n",
              " [19] \"新興\"     \"毒品氾濫\" \"施用者\"   \"多為\"     \"青少年\"   \"且會將\"  \n",
              " [25] \"摻\"       \"有\"       \"多種\"     \"毒品\"     \"咖啡包\"   \"笑氣\"    \n",
              " [31] \"一同\"     \"使用\"     \"另\"       \"吩坦尼\"   \"來勢洶洶\" \"國外\"    \n",
              " [37] \"已有\"     \"多起\"     \"死亡\"     \"案件\"     \"高檢署\"   \"指出\"    \n",
              " [43] \"根據\"     \"分析\"     \"國內\"     \"毒品\"     \"情形\"     \"毒品\"    \n",
              " [49] \"主要\"     \"來源\"     \"境外\"     \"大陸\"     \"輸入\"     \"新興\"    \n",
              " [55] \"毒品\"     \"先驅\"     \"原料\"     \"大宗\"     \"再者\"     \"查獲\"    \n",
              " [61] \"大麻\"     \"案件\"     \"數\"       \"大麻\"     \"株數\"     \"均\"      \n",
              " [67] \"增長\"     \"沒有\"     \"因為\"     \"新冠\"     \"肺炎\"     \"而\"      \n",
              " [73] \"減緩\"     \"來自\"     \"美加地區\" \"夾藏\"     \"大麻類\"   \"毒品案件\"\n",
              " [79] \"持續上升\" \"去年\"     \"創下\"     \"歷史紀錄\" \"今年\"     \"到\"      \n",
              " [85] \"目前\"     \"為止\"     \"查獲\"     \"4000\"     \"株\"       \"大麻\"    \n",
              " [91] \"情勢\"     \"不容\"     \"小覷\"     \"高檢署\"   \"指出\"     \"去年\"    \n",
              " [97] \"在\"       \"國內\"     \"盛行\"     \"新興\"     \"毒品\"     \"喵喵\"    \n",
              "[103] \"喵喵\"     \"先驅\"     \"原料\"     \"為主\"     \"今年\"     \"情勢\"    \n",
              "[109] \"有待\"     \"關注\"     \"另\"       \"分析\"     \"國際\"     \"毒品\"    \n",
              "[115] \"情勢\"     \"得知\"     \"新興\"     \"毒品\"     \"吩坦尼\"   \"來勢洶洶\"\n",
              "[121] \"此一\"     \"毒品\"     \"在\"       \"歐美\"     \"濫用\"     \"致死\"    \n",
              "[127] \"案件\"     \"暴增\"     \"它\"       \"具有\"     \"藥性\"     \"強\"      \n",
              "[133] \"成本低\"   \"特性\"     \"雖然\"     \"目前\"     \"國內\"     \"尚未\"    \n",
              "[139] \"有\"       \"查獲\"     \"案件\"     \"未來\"     \"是否\"     \"會成\"    \n",
              "[145] \"下\"       \"一個\"     \"流行\"     \"新興\"     \"毒品\"     \"有待\"    \n",
              "[151] \"觀察\"    "
            ],
            "text/latex": "\\begin{enumerate*}\n\\item '台灣'\n\\item '高等'\n\\item '檢察署'\n\\item '科技'\n\\item '偵查'\n\\item '中心'\n\\item '今發布'\n\\item '毒情'\n\\item '分析報告'\n\\item '指出'\n\\item '近期'\n\\item '查獲'\n\\item '大麻'\n\\item '案件'\n\\item '數'\n\\item '株數'\n\\item '增多'\n\\item '另'\n\\item '新興'\n\\item '毒品氾濫'\n\\item '施用者'\n\\item '多為'\n\\item '青少年'\n\\item '且會將'\n\\item '摻'\n\\item '有'\n\\item '多種'\n\\item '毒品'\n\\item '咖啡包'\n\\item '笑氣'\n\\item '一同'\n\\item '使用'\n\\item '另'\n\\item '吩坦尼'\n\\item '來勢洶洶'\n\\item '國外'\n\\item '已有'\n\\item '多起'\n\\item '死亡'\n\\item '案件'\n\\item '高檢署'\n\\item '指出'\n\\item '根據'\n\\item '分析'\n\\item '國內'\n\\item '毒品'\n\\item '情形'\n\\item '毒品'\n\\item '主要'\n\\item '來源'\n\\item '境外'\n\\item '大陸'\n\\item '輸入'\n\\item '新興'\n\\item '毒品'\n\\item '先驅'\n\\item '原料'\n\\item '大宗'\n\\item '再者'\n\\item '查獲'\n\\item '大麻'\n\\item '案件'\n\\item '數'\n\\item '大麻'\n\\item '株數'\n\\item '均'\n\\item '增長'\n\\item '沒有'\n\\item '因為'\n\\item '新冠'\n\\item '肺炎'\n\\item '而'\n\\item '減緩'\n\\item '來自'\n\\item '美加地區'\n\\item '夾藏'\n\\item '大麻類'\n\\item '毒品案件'\n\\item '持續上升'\n\\item '去年'\n\\item '創下'\n\\item '歷史紀錄'\n\\item '今年'\n\\item '到'\n\\item '目前'\n\\item '為止'\n\\item '查獲'\n\\item '4000'\n\\item '株'\n\\item '大麻'\n\\item '情勢'\n\\item '不容'\n\\item '小覷'\n\\item '高檢署'\n\\item '指出'\n\\item '去年'\n\\item '在'\n\\item '國內'\n\\item '盛行'\n\\item '新興'\n\\item '毒品'\n\\item '喵喵'\n\\item '喵喵'\n\\item '先驅'\n\\item '原料'\n\\item '為主'\n\\item '今年'\n\\item '情勢'\n\\item '有待'\n\\item '關注'\n\\item '另'\n\\item '分析'\n\\item '國際'\n\\item '毒品'\n\\item '情勢'\n\\item '得知'\n\\item '新興'\n\\item '毒品'\n\\item '吩坦尼'\n\\item '來勢洶洶'\n\\item '此一'\n\\item '毒品'\n\\item '在'\n\\item '歐美'\n\\item '濫用'\n\\item '致死'\n\\item '案件'\n\\item '暴增'\n\\item '它'\n\\item '具有'\n\\item '藥性'\n\\item '強'\n\\item '成本低'\n\\item '特性'\n\\item '雖然'\n\\item '目前'\n\\item '國內'\n\\item '尚未'\n\\item '有'\n\\item '查獲'\n\\item '案件'\n\\item '未來'\n\\item '是否'\n\\item '會成'\n\\item '下'\n\\item '一個'\n\\item '流行'\n\\item '新興'\n\\item '毒品'\n\\item '有待'\n\\item '觀察'\n\\end{enumerate*}\n",
            "text/markdown": "1. '台灣'\n2. '高等'\n3. '檢察署'\n4. '科技'\n5. '偵查'\n6. '中心'\n7. '今發布'\n8. '毒情'\n9. '分析報告'\n10. '指出'\n11. '近期'\n12. '查獲'\n13. '大麻'\n14. '案件'\n15. '數'\n16. '株數'\n17. '增多'\n18. '另'\n19. '新興'\n20. '毒品氾濫'\n21. '施用者'\n22. '多為'\n23. '青少年'\n24. '且會將'\n25. '摻'\n26. '有'\n27. '多種'\n28. '毒品'\n29. '咖啡包'\n30. '笑氣'\n31. '一同'\n32. '使用'\n33. '另'\n34. '吩坦尼'\n35. '來勢洶洶'\n36. '國外'\n37. '已有'\n38. '多起'\n39. '死亡'\n40. '案件'\n41. '高檢署'\n42. '指出'\n43. '根據'\n44. '分析'\n45. '國內'\n46. '毒品'\n47. '情形'\n48. '毒品'\n49. '主要'\n50. '來源'\n51. '境外'\n52. '大陸'\n53. '輸入'\n54. '新興'\n55. '毒品'\n56. '先驅'\n57. '原料'\n58. '大宗'\n59. '再者'\n60. '查獲'\n61. '大麻'\n62. '案件'\n63. '數'\n64. '大麻'\n65. '株數'\n66. '均'\n67. '增長'\n68. '沒有'\n69. '因為'\n70. '新冠'\n71. '肺炎'\n72. '而'\n73. '減緩'\n74. '來自'\n75. '美加地區'\n76. '夾藏'\n77. '大麻類'\n78. '毒品案件'\n79. '持續上升'\n80. '去年'\n81. '創下'\n82. '歷史紀錄'\n83. '今年'\n84. '到'\n85. '目前'\n86. '為止'\n87. '查獲'\n88. '4000'\n89. '株'\n90. '大麻'\n91. '情勢'\n92. '不容'\n93. '小覷'\n94. '高檢署'\n95. '指出'\n96. '去年'\n97. '在'\n98. '國內'\n99. '盛行'\n100. '新興'\n101. '毒品'\n102. '喵喵'\n103. '喵喵'\n104. '先驅'\n105. '原料'\n106. '為主'\n107. '今年'\n108. '情勢'\n109. '有待'\n110. '關注'\n111. '另'\n112. '分析'\n113. '國際'\n114. '毒品'\n115. '情勢'\n116. '得知'\n117. '新興'\n118. '毒品'\n119. '吩坦尼'\n120. '來勢洶洶'\n121. '此一'\n122. '毒品'\n123. '在'\n124. '歐美'\n125. '濫用'\n126. '致死'\n127. '案件'\n128. '暴增'\n129. '它'\n130. '具有'\n131. '藥性'\n132. '強'\n133. '成本低'\n134. '特性'\n135. '雖然'\n136. '目前'\n137. '國內'\n138. '尚未'\n139. '有'\n140. '查獲'\n141. '案件'\n142. '未來'\n143. '是否'\n144. '會成'\n145. '下'\n146. '一個'\n147. '流行'\n148. '新興'\n149. '毒品'\n150. '有待'\n151. '觀察'\n\n\n",
            "text/html": [
              "<style>\n",
              ".list-inline {list-style: none; margin:0; padding: 0}\n",
              ".list-inline>li {display: inline-block}\n",
              ".list-inline>li:not(:last-child)::after {content: \"\\00b7\"; padding: 0 .5ex}\n",
              "</style>\n",
              "<ol class=list-inline><li>'台灣'</li><li>'高等'</li><li>'檢察署'</li><li>'科技'</li><li>'偵查'</li><li>'中心'</li><li>'今發布'</li><li>'毒情'</li><li>'分析報告'</li><li>'指出'</li><li>'近期'</li><li>'查獲'</li><li>'大麻'</li><li>'案件'</li><li>'數'</li><li>'株數'</li><li>'增多'</li><li>'另'</li><li>'新興'</li><li>'毒品氾濫'</li><li>'施用者'</li><li>'多為'</li><li>'青少年'</li><li>'且會將'</li><li>'摻'</li><li>'有'</li><li>'多種'</li><li>'毒品'</li><li>'咖啡包'</li><li>'笑氣'</li><li>'一同'</li><li>'使用'</li><li>'另'</li><li>'吩坦尼'</li><li>'來勢洶洶'</li><li>'國外'</li><li>'已有'</li><li>'多起'</li><li>'死亡'</li><li>'案件'</li><li>'高檢署'</li><li>'指出'</li><li>'根據'</li><li>'分析'</li><li>'國內'</li><li>'毒品'</li><li>'情形'</li><li>'毒品'</li><li>'主要'</li><li>'來源'</li><li>'境外'</li><li>'大陸'</li><li>'輸入'</li><li>'新興'</li><li>'毒品'</li><li>'先驅'</li><li>'原料'</li><li>'大宗'</li><li>'再者'</li><li>'查獲'</li><li>'大麻'</li><li>'案件'</li><li>'數'</li><li>'大麻'</li><li>'株數'</li><li>'均'</li><li>'增長'</li><li>'沒有'</li><li>'因為'</li><li>'新冠'</li><li>'肺炎'</li><li>'而'</li><li>'減緩'</li><li>'來自'</li><li>'美加地區'</li><li>'夾藏'</li><li>'大麻類'</li><li>'毒品案件'</li><li>'持續上升'</li><li>'去年'</li><li>'創下'</li><li>'歷史紀錄'</li><li>'今年'</li><li>'到'</li><li>'目前'</li><li>'為止'</li><li>'查獲'</li><li>'4000'</li><li>'株'</li><li>'大麻'</li><li>'情勢'</li><li>'不容'</li><li>'小覷'</li><li>'高檢署'</li><li>'指出'</li><li>'去年'</li><li>'在'</li><li>'國內'</li><li>'盛行'</li><li>'新興'</li><li>'毒品'</li><li>'喵喵'</li><li>'喵喵'</li><li>'先驅'</li><li>'原料'</li><li>'為主'</li><li>'今年'</li><li>'情勢'</li><li>'有待'</li><li>'關注'</li><li>'另'</li><li>'分析'</li><li>'國際'</li><li>'毒品'</li><li>'情勢'</li><li>'得知'</li><li>'新興'</li><li>'毒品'</li><li>'吩坦尼'</li><li>'來勢洶洶'</li><li>'此一'</li><li>'毒品'</li><li>'在'</li><li>'歐美'</li><li>'濫用'</li><li>'致死'</li><li>'案件'</li><li>'暴增'</li><li>'它'</li><li>'具有'</li><li>'藥性'</li><li>'強'</li><li>'成本低'</li><li>'特性'</li><li>'雖然'</li><li>'目前'</li><li>'國內'</li><li>'尚未'</li><li>'有'</li><li>'查獲'</li><li>'案件'</li><li>'未來'</li><li>'是否'</li><li>'會成'</li><li>'下'</li><li>'一個'</li><li>'流行'</li><li>'新興'</li><li>'毒品'</li><li>'有待'</li><li>'觀察'</li></ol>\n"
            ]
          },
          "metadata": {
            "tags": []
          }
        }
      ]
    },
    {
      "cell_type": "code",
      "metadata": {
        "id": "FuS-lym605aZ",
        "colab": {
          "base_uri": "https://localhost:8080/",
          "height": 281
        },
        "outputId": "04cb3f2b-78ed-4e51-8e35-3a3702d38b3d"
      },
      "source": [
        "txt_freq <- freq(seg_words)\n",
        "txt_freq <- arrange(txt_freq, desc(freq))\n",
        "head(txt_freq)"
      ],
      "execution_count": 22,
      "outputs": [
        {
          "output_type": "display_data",
          "data": {
            "text/plain": [
              "  char freq\n",
              "1 毒品 9   \n",
              "2 新興 5   \n",
              "3 案件 5   \n",
              "4 查獲 4   \n",
              "5 大麻 4   \n",
              "6 指出 3   "
            ],
            "text/latex": "A data.frame: 6 × 2\n\\begin{tabular}{r|ll}\n  & char & freq\\\\\n  & <chr> & <dbl>\\\\\n\\hline\n\t1 & 毒品 & 9\\\\\n\t2 & 新興 & 5\\\\\n\t3 & 案件 & 5\\\\\n\t4 & 查獲 & 4\\\\\n\t5 & 大麻 & 4\\\\\n\t6 & 指出 & 3\\\\\n\\end{tabular}\n",
            "text/markdown": "\nA data.frame: 6 × 2\n\n| <!--/--> | char &lt;chr&gt; | freq &lt;dbl&gt; |\n|---|---|---|\n| 1 | 毒品 | 9 |\n| 2 | 新興 | 5 |\n| 3 | 案件 | 5 |\n| 4 | 查獲 | 4 |\n| 5 | 大麻 | 4 |\n| 6 | 指出 | 3 |\n\n",
            "text/html": [
              "<table class=\"dataframe\">\n",
              "<caption>A data.frame: 6 × 2</caption>\n",
              "<thead>\n",
              "\t<tr><th></th><th scope=col>char</th><th scope=col>freq</th></tr>\n",
              "\t<tr><th></th><th scope=col>&lt;chr&gt;</th><th scope=col>&lt;dbl&gt;</th></tr>\n",
              "</thead>\n",
              "<tbody>\n",
              "\t<tr><th scope=row>1</th><td>毒品</td><td>9</td></tr>\n",
              "\t<tr><th scope=row>2</th><td>新興</td><td>5</td></tr>\n",
              "\t<tr><th scope=row>3</th><td>案件</td><td>5</td></tr>\n",
              "\t<tr><th scope=row>4</th><td>查獲</td><td>4</td></tr>\n",
              "\t<tr><th scope=row>5</th><td>大麻</td><td>4</td></tr>\n",
              "\t<tr><th scope=row>6</th><td>指出</td><td>3</td></tr>\n",
              "</tbody>\n",
              "</table>\n"
            ]
          },
          "metadata": {
            "tags": []
          }
        }
      ]
    },
    {
      "cell_type": "code",
      "metadata": {
        "id": "ksXvo5VP1BvS",
        "colab": {
          "base_uri": "https://localhost:8080/",
          "height": 1000
        },
        "outputId": "aa14097e-eb99-404e-9f03-2f421b0ae701"
      },
      "source": [
        "par(family=(\"Microsoft YaHei\"))\n",
        "wordcloud(txt_freq$char, txt_freq$freq, min.freq = 2, random.order = F, ordered.colors = F, colors = rainbow(nrow(txt_freq)))"
      ],
      "execution_count": 27,
      "outputs": [
        {
          "output_type": "stream",
          "text": [
            "Warning message in strwidth(words[i], cex = size[i], ...):\n",
            "“font family 'Microsoft YaHei' not found, will use 'wqy-microhei' instead”\n",
            "Warning message in strheight(words[i], cex = size[i], ...):\n",
            "“font family 'Microsoft YaHei' not found, will use 'sans' instead”\n",
            "Warning message in text.default(x1, y1, words[i], cex = size[i], offset = 0, srt = rotWord * :\n",
            "“font family 'Microsoft YaHei' not found, will use 'wqy-microhei' instead”\n",
            "Warning message in text.default(x1, y1, words[i], cex = size[i], offset = 0, srt = rotWord * :\n",
            "“font family 'Microsoft YaHei' not found, will use 'wqy-microhei' instead”\n",
            "Warning message in text.default(x1, y1, words[i], cex = size[i], offset = 0, srt = rotWord * :\n",
            "“font family 'Microsoft YaHei' not found, will use 'wqy-microhei' instead”\n",
            "Warning message in text.default(x1, y1, words[i], cex = size[i], offset = 0, srt = rotWord * :\n",
            "“font family 'Microsoft YaHei' not found, will use 'wqy-microhei' instead”\n",
            "Warning message in strwidth(words[i], cex = size[i], ...):\n",
            "“font family 'Microsoft YaHei' not found, will use 'wqy-microhei' instead”\n",
            "Warning message in strheight(words[i], cex = size[i], ...):\n",
            "“font family 'Microsoft YaHei' not found, will use 'sans' instead”\n",
            "Warning message in text.default(x1, y1, words[i], cex = size[i], offset = 0, srt = rotWord * :\n",
            "“font family 'Microsoft YaHei' not found, will use 'wqy-microhei' instead”\n",
            "Warning message in text.default(x1, y1, words[i], cex = size[i], offset = 0, srt = rotWord * :\n",
            "“font family 'Microsoft YaHei' not found, will use 'wqy-microhei' instead”\n",
            "Warning message in text.default(x1, y1, words[i], cex = size[i], offset = 0, srt = rotWord * :\n",
            "“font family 'Microsoft YaHei' not found, will use 'wqy-microhei' instead”\n",
            "Warning message in text.default(x1, y1, words[i], cex = size[i], offset = 0, srt = rotWord * :\n",
            "“font family 'Microsoft YaHei' not found, will use 'wqy-microhei' instead”\n",
            "Warning message in strwidth(words[i], cex = size[i], ...):\n",
            "“font family 'Microsoft YaHei' not found, will use 'wqy-microhei' instead”\n",
            "Warning message in text.default(x1, y1, words[i], cex = size[i], offset = 0, srt = rotWord * :\n",
            "“font family 'Microsoft YaHei' not found, will use 'wqy-microhei' instead”\n",
            "Warning message in text.default(x1, y1, words[i], cex = size[i], offset = 0, srt = rotWord * :\n",
            "“font family 'Microsoft YaHei' not found, will use 'wqy-microhei' instead”\n",
            "Warning message in text.default(x1, y1, words[i], cex = size[i], offset = 0, srt = rotWord * :\n",
            "“font family 'Microsoft YaHei' not found, will use 'wqy-microhei' instead”\n",
            "Warning message in text.default(x1, y1, words[i], cex = size[i], offset = 0, srt = rotWord * :\n",
            "“font family 'Microsoft YaHei' not found, will use 'wqy-microhei' instead”\n",
            "Warning message in strwidth(words[i], cex = size[i], ...):\n",
            "“font family 'Microsoft YaHei' not found, will use 'wqy-microhei' instead”\n",
            "Warning message in strheight(words[i], cex = size[i], ...):\n",
            "“font family 'Microsoft YaHei' not found, will use 'sans' instead”\n",
            "Warning message in text.default(x1, y1, words[i], cex = size[i], offset = 0, srt = rotWord * :\n",
            "“font family 'Microsoft YaHei' not found, will use 'wqy-microhei' instead”\n",
            "Warning message in text.default(x1, y1, words[i], cex = size[i], offset = 0, srt = rotWord * :\n",
            "“font family 'Microsoft YaHei' not found, will use 'wqy-microhei' instead”\n",
            "Warning message in text.default(x1, y1, words[i], cex = size[i], offset = 0, srt = rotWord * :\n",
            "“font family 'Microsoft YaHei' not found, will use 'wqy-microhei' instead”\n",
            "Warning message in text.default(x1, y1, words[i], cex = size[i], offset = 0, srt = rotWord * :\n",
            "“font family 'Microsoft YaHei' not found, will use 'wqy-microhei' instead”\n",
            "Warning message in strwidth(words[i], cex = size[i], ...):\n",
            "“font family 'Microsoft YaHei' not found, will use 'wqy-microhei' instead”\n",
            "Warning message in text.default(x1, y1, words[i], cex = size[i], offset = 0, srt = rotWord * :\n",
            "“font family 'Microsoft YaHei' not found, will use 'wqy-microhei' instead”\n",
            "Warning message in text.default(x1, y1, words[i], cex = size[i], offset = 0, srt = rotWord * :\n",
            "“font family 'Microsoft YaHei' not found, will use 'wqy-microhei' instead”\n",
            "Warning message in text.default(x1, y1, words[i], cex = size[i], offset = 0, srt = rotWord * :\n",
            "“font family 'Microsoft YaHei' not found, will use 'wqy-microhei' instead”\n",
            "Warning message in text.default(x1, y1, words[i], cex = size[i], offset = 0, srt = rotWord * :\n",
            "“font family 'Microsoft YaHei' not found, will use 'wqy-microhei' instead”\n",
            "Warning message in strwidth(words[i], cex = size[i], ...):\n",
            "“font family 'Microsoft YaHei' not found, will use 'wqy-microhei' instead”\n",
            "Warning message in strheight(words[i], cex = size[i], ...):\n",
            "“font family 'Microsoft YaHei' not found, will use 'sans' instead”\n",
            "Warning message in text.default(x1, y1, words[i], cex = size[i], offset = 0, srt = rotWord * :\n",
            "“font family 'Microsoft YaHei' not found, will use 'wqy-microhei' instead”\n",
            "Warning message in text.default(x1, y1, words[i], cex = size[i], offset = 0, srt = rotWord * :\n",
            "“font family 'Microsoft YaHei' not found, will use 'wqy-microhei' instead”\n",
            "Warning message in text.default(x1, y1, words[i], cex = size[i], offset = 0, srt = rotWord * :\n",
            "“font family 'Microsoft YaHei' not found, will use 'wqy-microhei' instead”\n",
            "Warning message in text.default(x1, y1, words[i], cex = size[i], offset = 0, srt = rotWord * :\n",
            "“font family 'Microsoft YaHei' not found, will use 'wqy-microhei' instead”\n",
            "Warning message in strwidth(words[i], cex = size[i], ...):\n",
            "“font family 'Microsoft YaHei' not found, will use 'wqy-microhei' instead”\n",
            "Warning message in text.default(x1, y1, words[i], cex = size[i], offset = 0, srt = rotWord * :\n",
            "“font family 'Microsoft YaHei' not found, will use 'wqy-microhei' instead”\n",
            "Warning message in text.default(x1, y1, words[i], cex = size[i], offset = 0, srt = rotWord * :\n",
            "“font family 'Microsoft YaHei' not found, will use 'wqy-microhei' instead”\n",
            "Warning message in text.default(x1, y1, words[i], cex = size[i], offset = 0, srt = rotWord * :\n",
            "“font family 'Microsoft YaHei' not found, will use 'wqy-microhei' instead”\n",
            "Warning message in strwidth(words[i], cex = size[i], ...):\n",
            "“font family 'Microsoft YaHei' not found, will use 'wqy-microhei' instead”\n",
            "Warning message in text.default(x1, y1, words[i], cex = size[i], offset = 0, srt = rotWord * :\n",
            "“font family 'Microsoft YaHei' not found, will use 'wqy-microhei' instead”\n",
            "Warning message in text.default(x1, y1, words[i], cex = size[i], offset = 0, srt = rotWord * :\n",
            "“font family 'Microsoft YaHei' not found, will use 'wqy-microhei' instead”\n",
            "Warning message in text.default(x1, y1, words[i], cex = size[i], offset = 0, srt = rotWord * :\n",
            "“font family 'Microsoft YaHei' not found, will use 'wqy-microhei' instead”\n",
            "Warning message in text.default(x1, y1, words[i], cex = size[i], offset = 0, srt = rotWord * :\n",
            "“font family 'Microsoft YaHei' not found, will use 'wqy-microhei' instead”\n",
            "Warning message in strwidth(words[i], cex = size[i], ...):\n",
            "“font family 'Microsoft YaHei' not found, will use 'wqy-microhei' instead”\n",
            "Warning message in text.default(x1, y1, words[i], cex = size[i], offset = 0, srt = rotWord * :\n",
            "“font family 'Microsoft YaHei' not found, will use 'wqy-microhei' instead”\n",
            "Warning message in text.default(x1, y1, words[i], cex = size[i], offset = 0, srt = rotWord * :\n",
            "“font family 'Microsoft YaHei' not found, will use 'wqy-microhei' instead”\n",
            "Warning message in text.default(x1, y1, words[i], cex = size[i], offset = 0, srt = rotWord * :\n",
            "“font family 'Microsoft YaHei' not found, will use 'wqy-microhei' instead”\n",
            "Warning message in text.default(x1, y1, words[i], cex = size[i], offset = 0, srt = rotWord * :\n",
            "“font family 'Microsoft YaHei' not found, will use 'wqy-microhei' instead”\n",
            "Warning message in strwidth(words[i], cex = size[i], ...):\n",
            "“font family 'Microsoft YaHei' not found, will use 'wqy-microhei' instead”\n",
            "Warning message in strheight(words[i], cex = size[i], ...):\n",
            "“font family 'Microsoft YaHei' not found, will use 'sans' instead”\n",
            "Warning message in text.default(x1, y1, words[i], cex = size[i], offset = 0, srt = rotWord * :\n",
            "“font family 'Microsoft YaHei' not found, will use 'wqy-microhei' instead”\n",
            "Warning message in text.default(x1, y1, words[i], cex = size[i], offset = 0, srt = rotWord * :\n",
            "“font family 'Microsoft YaHei' not found, will use 'wqy-microhei' instead”\n",
            "Warning message in text.default(x1, y1, words[i], cex = size[i], offset = 0, srt = rotWord * :\n",
            "“font family 'Microsoft YaHei' not found, will use 'wqy-microhei' instead”\n",
            "Warning message in text.default(x1, y1, words[i], cex = size[i], offset = 0, srt = rotWord * :\n",
            "“font family 'Microsoft YaHei' not found, will use 'wqy-microhei' instead”\n",
            "Warning message in strwidth(words[i], cex = size[i], ...):\n",
            "“font family 'Microsoft YaHei' not found, will use 'wqy-microhei' instead”\n",
            "Warning message in text.default(x1, y1, words[i], cex = size[i], offset = 0, srt = rotWord * :\n",
            "“font family 'Microsoft YaHei' not found, will use 'wqy-microhei' instead”\n",
            "Warning message in text.default(x1, y1, words[i], cex = size[i], offset = 0, srt = rotWord * :\n",
            "“font family 'Microsoft YaHei' not found, will use 'wqy-microhei' instead”\n",
            "Warning message in text.default(x1, y1, words[i], cex = size[i], offset = 0, srt = rotWord * :\n",
            "“font family 'Microsoft YaHei' not found, will use 'wqy-microhei' instead”\n",
            "Warning message in text.default(x1, y1, words[i], cex = size[i], offset = 0, srt = rotWord * :\n",
            "“font family 'Microsoft YaHei' not found, will use 'wqy-microhei' instead”\n",
            "Warning message in strwidth(words[i], cex = size[i], ...):\n",
            "“font family 'Microsoft YaHei' not found, will use 'wqy-microhei' instead”\n",
            "Warning message in text.default(x1, y1, words[i], cex = size[i], offset = 0, srt = rotWord * :\n",
            "“font family 'Microsoft YaHei' not found, will use 'wqy-microhei' instead”\n",
            "Warning message in text.default(x1, y1, words[i], cex = size[i], offset = 0, srt = rotWord * :\n",
            "“font family 'Microsoft YaHei' not found, will use 'wqy-microhei' instead”\n",
            "Warning message in text.default(x1, y1, words[i], cex = size[i], offset = 0, srt = rotWord * :\n",
            "“font family 'Microsoft YaHei' not found, will use 'wqy-microhei' instead”\n",
            "Warning message in strwidth(words[i], cex = size[i], ...):\n",
            "“font family 'Microsoft YaHei' not found, will use 'wqy-microhei' instead”\n",
            "Warning message in text.default(x1, y1, words[i], cex = size[i], offset = 0, srt = rotWord * :\n",
            "“font family 'Microsoft YaHei' not found, will use 'wqy-microhei' instead”\n",
            "Warning message in text.default(x1, y1, words[i], cex = size[i], offset = 0, srt = rotWord * :\n",
            "“font family 'Microsoft YaHei' not found, will use 'wqy-microhei' instead”\n",
            "Warning message in text.default(x1, y1, words[i], cex = size[i], offset = 0, srt = rotWord * :\n",
            "“font family 'Microsoft YaHei' not found, will use 'wqy-microhei' instead”\n",
            "Warning message in text.default(x1, y1, words[i], cex = size[i], offset = 0, srt = rotWord * :\n",
            "“font family 'Microsoft YaHei' not found, will use 'wqy-microhei' instead”\n",
            "Warning message in text.default(x1, y1, words[i], cex = size[i], offset = 0, srt = rotWord * :\n",
            "“font family 'Microsoft YaHei' not found, will use 'wqy-microhei' instead”\n",
            "Warning message in text.default(x1, y1, words[i], cex = size[i], offset = 0, srt = rotWord * :\n",
            "“font family 'Microsoft YaHei' not found, will use 'wqy-microhei' instead”\n",
            "Warning message in strwidth(words[i], cex = size[i], ...):\n",
            "“font family 'Microsoft YaHei' not found, will use 'wqy-microhei' instead”\n",
            "Warning message in text.default(x1, y1, words[i], cex = size[i], offset = 0, srt = rotWord * :\n",
            "“font family 'Microsoft YaHei' not found, will use 'wqy-microhei' instead”\n",
            "Warning message in text.default(x1, y1, words[i], cex = size[i], offset = 0, srt = rotWord * :\n",
            "“font family 'Microsoft YaHei' not found, will use 'wqy-microhei' instead”\n",
            "Warning message in text.default(x1, y1, words[i], cex = size[i], offset = 0, srt = rotWord * :\n",
            "“font family 'Microsoft YaHei' not found, will use 'wqy-microhei' instead”\n",
            "Warning message in text.default(x1, y1, words[i], cex = size[i], offset = 0, srt = rotWord * :\n",
            "“font family 'Microsoft YaHei' not found, will use 'wqy-microhei' instead”\n",
            "Warning message in strwidth(words[i], cex = size[i], ...):\n",
            "“font family 'Microsoft YaHei' not found, will use 'wqy-microhei' instead”\n",
            "Warning message in text.default(x1, y1, words[i], cex = size[i], offset = 0, srt = rotWord * :\n",
            "“font family 'Microsoft YaHei' not found, will use 'wqy-microhei' instead”\n",
            "Warning message in text.default(x1, y1, words[i], cex = size[i], offset = 0, srt = rotWord * :\n",
            "“font family 'Microsoft YaHei' not found, will use 'wqy-microhei' instead”\n",
            "Warning message in text.default(x1, y1, words[i], cex = size[i], offset = 0, srt = rotWord * :\n",
            "“font family 'Microsoft YaHei' not found, will use 'wqy-microhei' instead”\n",
            "Warning message in text.default(x1, y1, words[i], cex = size[i], offset = 0, srt = rotWord * :\n",
            "“font family 'Microsoft YaHei' not found, will use 'wqy-microhei' instead”\n",
            "Warning message in strwidth(words[i], cex = size[i], ...):\n",
            "“font family 'Microsoft YaHei' not found, will use 'wqy-microhei' instead”\n",
            "Warning message in text.default(x1, y1, words[i], cex = size[i], offset = 0, srt = rotWord * :\n",
            "“font family 'Microsoft YaHei' not found, will use 'wqy-microhei' instead”\n",
            "Warning message in text.default(x1, y1, words[i], cex = size[i], offset = 0, srt = rotWord * :\n",
            "“font family 'Microsoft YaHei' not found, will use 'wqy-microhei' instead”\n",
            "Warning message in text.default(x1, y1, words[i], cex = size[i], offset = 0, srt = rotWord * :\n",
            "“font family 'Microsoft YaHei' not found, will use 'wqy-microhei' instead”\n",
            "Warning message in text.default(x1, y1, words[i], cex = size[i], offset = 0, srt = rotWord * :\n",
            "“font family 'Microsoft YaHei' not found, will use 'wqy-microhei' instead”\n",
            "Warning message in text.default(x1, y1, words[i], cex = size[i], offset = 0, srt = rotWord * :\n",
            "“font family 'Microsoft YaHei' not found, will use 'wqy-microhei' instead”\n",
            "Warning message in strwidth(words[i], cex = size[i], ...):\n",
            "“font family 'Microsoft YaHei' not found, will use 'wqy-microhei' instead”\n",
            "Warning message in text.default(x1, y1, words[i], cex = size[i], offset = 0, srt = rotWord * :\n",
            "“font family 'Microsoft YaHei' not found, will use 'wqy-microhei' instead”\n",
            "Warning message in text.default(x1, y1, words[i], cex = size[i], offset = 0, srt = rotWord * :\n",
            "“font family 'Microsoft YaHei' not found, will use 'wqy-microhei' instead”\n",
            "Warning message in text.default(x1, y1, words[i], cex = size[i], offset = 0, srt = rotWord * :\n",
            "“font family 'Microsoft YaHei' not found, will use 'wqy-microhei' instead”\n",
            "Warning message in text.default(x1, y1, words[i], cex = size[i], offset = 0, srt = rotWord * :\n",
            "“font family 'Microsoft YaHei' not found, will use 'wqy-microhei' instead”\n",
            "Warning message in strwidth(words[i], cex = size[i], ...):\n",
            "“font family 'Microsoft YaHei' not found, will use 'wqy-microhei' instead”\n",
            "Warning message in text.default(x1, y1, words[i], cex = size[i], offset = 0, srt = rotWord * :\n",
            "“font family 'Microsoft YaHei' not found, will use 'wqy-microhei' instead”\n",
            "Warning message in text.default(x1, y1, words[i], cex = size[i], offset = 0, srt = rotWord * :\n",
            "“font family 'Microsoft YaHei' not found, will use 'wqy-microhei' instead”\n",
            "Warning message in text.default(x1, y1, words[i], cex = size[i], offset = 0, srt = rotWord * :\n",
            "“font family 'Microsoft YaHei' not found, will use 'wqy-microhei' instead”\n",
            "Warning message in text.default(x1, y1, words[i], cex = size[i], offset = 0, srt = rotWord * :\n",
            "“font family 'Microsoft YaHei' not found, will use 'wqy-microhei' instead”\n",
            "Warning message in text.default(x1, y1, words[i], cex = size[i], offset = 0, srt = rotWord * :\n",
            "“font family 'Microsoft YaHei' not found, will use 'wqy-microhei' instead”\n",
            "Warning message in strwidth(words[i], cex = size[i], ...):\n",
            "“font family 'Microsoft YaHei' not found, will use 'wqy-microhei' instead”\n",
            "Warning message in text.default(x1, y1, words[i], cex = size[i], offset = 0, srt = rotWord * :\n",
            "“font family 'Microsoft YaHei' not found, will use 'wqy-microhei' instead”\n",
            "Warning message in text.default(x1, y1, words[i], cex = size[i], offset = 0, srt = rotWord * :\n",
            "“font family 'Microsoft YaHei' not found, will use 'wqy-microhei' instead”\n",
            "Warning message in text.default(x1, y1, words[i], cex = size[i], offset = 0, srt = rotWord * :\n",
            "“font family 'Microsoft YaHei' not found, will use 'wqy-microhei' instead”\n",
            "Warning message in strwidth(words[i], cex = size[i], ...):\n",
            "“font family 'Microsoft YaHei' not found, will use 'wqy-microhei' instead”\n",
            "Warning message in text.default(x1, y1, words[i], cex = size[i], offset = 0, srt = rotWord * :\n",
            "“font family 'Microsoft YaHei' not found, will use 'wqy-microhei' instead”\n",
            "Warning message in text.default(x1, y1, words[i], cex = size[i], offset = 0, srt = rotWord * :\n",
            "“font family 'Microsoft YaHei' not found, will use 'wqy-microhei' instead”\n",
            "Warning message in text.default(x1, y1, words[i], cex = size[i], offset = 0, srt = rotWord * :\n",
            "“font family 'Microsoft YaHei' not found, will use 'wqy-microhei' instead”\n",
            "Warning message in text.default(x1, y1, words[i], cex = size[i], offset = 0, srt = rotWord * :\n",
            "“font family 'Microsoft YaHei' not found, will use 'wqy-microhei' instead”\n",
            "Warning message in strwidth(words[i], cex = size[i], ...):\n",
            "“font family 'Microsoft YaHei' not found, will use 'wqy-microhei' instead”\n",
            "Warning message in text.default(x1, y1, words[i], cex = size[i], offset = 0, srt = rotWord * :\n",
            "“font family 'Microsoft YaHei' not found, will use 'wqy-microhei' instead”\n",
            "Warning message in text.default(x1, y1, words[i], cex = size[i], offset = 0, srt = rotWord * :\n",
            "“font family 'Microsoft YaHei' not found, will use 'wqy-microhei' instead”\n",
            "Warning message in text.default(x1, y1, words[i], cex = size[i], offset = 0, srt = rotWord * :\n",
            "“font family 'Microsoft YaHei' not found, will use 'wqy-microhei' instead”\n",
            "Warning message in text.default(x1, y1, words[i], cex = size[i], offset = 0, srt = rotWord * :\n",
            "“font family 'Microsoft YaHei' not found, will use 'wqy-microhei' instead”\n",
            "Warning message in strwidth(words[i], cex = size[i], ...):\n",
            "“font family 'Microsoft YaHei' not found, will use 'wqy-microhei' instead”\n",
            "Warning message in text.default(x1, y1, words[i], cex = size[i], offset = 0, srt = rotWord * :\n",
            "“font family 'Microsoft YaHei' not found, will use 'wqy-microhei' instead”\n",
            "Warning message in text.default(x1, y1, words[i], cex = size[i], offset = 0, srt = rotWord * :\n",
            "“font family 'Microsoft YaHei' not found, will use 'wqy-microhei' instead”\n",
            "Warning message in text.default(x1, y1, words[i], cex = size[i], offset = 0, srt = rotWord * :\n",
            "“font family 'Microsoft YaHei' not found, will use 'wqy-microhei' instead”\n",
            "Warning message in text.default(x1, y1, words[i], cex = size[i], offset = 0, srt = rotWord * :\n",
            "“font family 'Microsoft YaHei' not found, will use 'wqy-microhei' instead”\n",
            "Warning message in strwidth(words[i], cex = size[i], ...):\n",
            "“font family 'Microsoft YaHei' not found, will use 'wqy-microhei' instead”\n",
            "Warning message in text.default(x1, y1, words[i], cex = size[i], offset = 0, srt = rotWord * :\n",
            "“font family 'Microsoft YaHei' not found, will use 'wqy-microhei' instead”\n",
            "Warning message in text.default(x1, y1, words[i], cex = size[i], offset = 0, srt = rotWord * :\n",
            "“font family 'Microsoft YaHei' not found, will use 'wqy-microhei' instead”\n",
            "Warning message in text.default(x1, y1, words[i], cex = size[i], offset = 0, srt = rotWord * :\n",
            "“font family 'Microsoft YaHei' not found, will use 'wqy-microhei' instead”\n",
            "Warning message in text.default(x1, y1, words[i], cex = size[i], offset = 0, srt = rotWord * :\n",
            "“font family 'Microsoft YaHei' not found, will use 'wqy-microhei' instead”\n",
            "Warning message in strwidth(words[i], cex = size[i], ...):\n",
            "“font family 'Microsoft YaHei' not found, will use 'wqy-microhei' instead”\n",
            "Warning message in text.default(x1, y1, words[i], cex = size[i], offset = 0, srt = rotWord * :\n",
            "“font family 'Microsoft YaHei' not found, will use 'wqy-microhei' instead”\n",
            "Warning message in text.default(x1, y1, words[i], cex = size[i], offset = 0, srt = rotWord * :\n",
            "“font family 'Microsoft YaHei' not found, will use 'wqy-microhei' instead”\n",
            "Warning message in text.default(x1, y1, words[i], cex = size[i], offset = 0, srt = rotWord * :\n",
            "“font family 'Microsoft YaHei' not found, will use 'wqy-microhei' instead”\n"
          ],
          "name": "stderr"
        },
        {
          "output_type": "display_data",
          "data": {
            "image/png": "[encoded data removed]",
            "text/plain": [
              "plot without title"
            ]
          },
          "metadata": {
            "tags": [],
            "image/png": {
              "width": 420,
              "height": 420
            }
          }
        }
      ]
    },
    {
      "cell_type": "code",
      "metadata": {
        "id": "PPRSNDf21Mok",
        "colab": {
          "base_uri": "https://localhost:8080/"
        },
        "outputId": "ecfa0d21-a69d-4aa7-b889-23d140c98a4b"
      },
      "source": [
        "install.packages(\"showtext\")"
      ],
      "execution_count": 24,
      "outputs": [
        {
          "output_type": "stream",
          "text": [
            "Installing package into ‘/usr/local/lib/R/site-library’\n",
            "(as ‘lib’ is unspecified)\n",
            "\n",
            "also installing the dependencies ‘sysfonts’, ‘showtextdb’\n",
            "\n",
            "\n"
          ],
          "name": "stderr"
        }
      ]
    },
    {
      "cell_type": "code",
      "metadata": {
        "id": "_uGNbg6b1QvU",
        "colab": {
          "base_uri": "https://localhost:8080/"
        },
        "outputId": "cf10e6cd-6cf7-4160-e00c-6c9a4c99296e"
      },
      "source": [
        "library(showtext)"
      ],
      "execution_count": 25,
      "outputs": [
        {
          "output_type": "stream",
          "text": [
            "Loading required package: sysfonts\n",
            "\n",
            "Loading required package: showtextdb\n",
            "\n"
          ],
          "name": "stderr"
        }
      ]
    },
    {
      "cell_type": "code",
      "metadata": {
        "id": "1i6uYu0u1T9y",
        "colab": {
          "base_uri": "https://localhost:8080/"
        },
        "outputId": "7a05a5f5-f3cf-4d20-de85-e6fd8c15334c"
      },
      "source": [
        "showtext.auto(enable = TRUE)"
      ],
      "execution_count": 26,
      "outputs": [
        {
          "output_type": "stream",
          "text": [
            "'showtext.auto()' is now renamed to 'showtext_auto()'\n",
            "The old version still works, but consider using the new function in future code\n",
            "\n"
          ],
          "name": "stderr"
        }
      ]
    }
  ]
}