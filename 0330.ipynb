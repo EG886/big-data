{
  "nbformat": 4,
  "nbformat_minor": 0,
  "metadata": {
    "colab": {
      "name": "0330.ipynb",
      "provenance": [],
      "collapsed_sections": [],
      "include_colab_link": true
    },
    "kernelspec": {
      "name": "ir",
      "display_name": "R"
    }
  },
  "cells": [
    {
      "cell_type": "markdown",
      "metadata": {
        "id": "view-in-github",
        "colab_type": "text"
      },
      "source": [
        "<a href=\"https://colab.research.google.com/github/EG886/big-data/blob/main/0330.ipynb\" target=\"_parent\"><img src=\"https://colab.research.google.com/assets/colab-badge.svg\" alt=\"Open In Colab\"/></a>"
      ]
    },
    {
      "cell_type": "code",
      "metadata": {
        "colab": {
          "base_uri": "https://localhost:8080/"
        },
        "id": "MLxA7drKKvU-",
        "outputId": "661a5860-0fb3-4264-fdf4-fe025788023f"
      },
      "source": [
        "install.packages(\"rJava\")\n",
        "install.packages(\"jiebaR\")\n",
        "install.packages(\"tmcn\")\n",
        "install.packages(\"dplyr\")\n",
        "install.packages(\"lubridate\")\n",
        "install.packages(\"stringr\")\n",
        "install.packages(\"wordcloud\")\n",
        "install.packages(\"Rwordseg\",repos =\"http;//R-Forge.R-project.org\")"
      ],
      "execution_count": 5,
      "outputs": [
        {
          "output_type": "stream",
          "text": [
            "Installing package into ‘/usr/local/lib/R/site-library’\n",
            "(as ‘lib’ is unspecified)\n",
            "\n",
            "Installing package into ‘/usr/local/lib/R/site-library’\n",
            "(as ‘lib’ is unspecified)\n",
            "\n",
            "Installing package into ‘/usr/local/lib/R/site-library’\n",
            "(as ‘lib’ is unspecified)\n",
            "\n",
            "Installing package into ‘/usr/local/lib/R/site-library’\n",
            "(as ‘lib’ is unspecified)\n",
            "\n",
            "Installing package into ‘/usr/local/lib/R/site-library’\n",
            "(as ‘lib’ is unspecified)\n",
            "\n",
            "Installing package into ‘/usr/local/lib/R/site-library’\n",
            "(as ‘lib’ is unspecified)\n",
            "\n",
            "Installing package into ‘/usr/local/lib/R/site-library’\n",
            "(as ‘lib’ is unspecified)\n",
            "\n",
            "Installing package into ‘/usr/local/lib/R/site-library’\n",
            "(as ‘lib’ is unspecified)\n",
            "\n",
            "Warning message:\n",
            "“unable to access index for repository http;//R-Forge.R-project.org/src/contrib:\n",
            "  cannot open URL 'http;//R-Forge.R-project.org/src/contrib/PACKAGES'”\n",
            "Warning message:\n",
            "“package ‘Rwordseg’ is not available for this version of R\n",
            "\n",
            "A version of this package for your version of R might be available elsewhere,\n",
            "see the ideas at\n",
            "https://cran.r-project.org/doc/manuals/r-patched/R-admin.html#Installing-packages”\n"
          ],
          "name": "stderr"
        }
      ]
    },
    {
      "cell_type": "code",
      "metadata": {
        "id": "NM033b3HOLlF"
      },
      "source": [
        "library(jiebaR)\n",
        "library(dplyr)\n",
        "library(lubridate)\n",
        "library(stringr)\n",
        "library(wordcloud)"
      ],
      "execution_count": 6,
      "outputs": []
    },
    {
      "cell_type": "code",
      "metadata": {
        "id": "L4nYM-nlPdcD"
      },
      "source": [
        "content <- \"嚴重特殊傳染性肺炎疫情持續在全球蔓延,已造成三千多萬人感染,死亡人數破百萬人,歐美醫療體系幾近崩潰,各種行動限制對於各國之經濟更有莫大之衝擊。然而台灣未實行大規模封鎖行動,維持正常上班上課與各種經濟活動,至今無大規模疫情爆發,醫療體系也仍能正常提供民眾服務,顯示台灣的防疫政策正確而有效,獲得世界各國高度肯定。國家衛生研究院群體健康科學研究所與感染症與疫苗研究所合作,利用真實數據與數學模型證實,良好的邊境管控,詳盡的疫情調查,確實的隔離與檢疫,以及民眾遵行防疫措施,為台灣抗疫四大支柱。台灣也對世界各國提供各項協助與經驗分享,期望幫助各國盡快從疫情的陰霾中走出。\""
      ],
      "execution_count": 48,
      "outputs": []
    },
    {
      "cell_type": "code",
      "metadata": {
        "id": "qlJz5mvLQR7m"
      },
      "source": [
        "cutter <- worker(bylines= F)"
      ],
      "execution_count": 34,
      "outputs": []
    },
    {
      "cell_type": "code",
      "metadata": {
        "colab": {
          "base_uri": "https://localhost:8080/",
          "height": 136
        },
        "id": "EjT05iQ_RFPv",
        "outputId": "4a9090a3-b635-4241-ca81-9ae0843a8a7c"
      },
      "source": [
        "cutter[content]"
      ],
      "execution_count": 13,
      "outputs": [
        {
          "output_type": "display_data",
          "data": {
            "text/plain": [
              "  [1] \"嚴重\"           \"特殊\"           \"傳染性\"         \"肺炎\"          \n",
              "  [5] \"疫情\"           \"持續\"           \"在\"             \"全球\"          \n",
              "  [9] \"蔓延\"           \"已\"             \"造成\"           \"三千多萬\"      \n",
              " [13] \"人\"             \"感染\"           \"死亡\"           \"人數\"          \n",
              " [17] \"破\"             \"百萬\"           \"人\"             \"歐美\"          \n",
              " [21] \"醫療\"           \"體系\"           \"幾近\"           \"崩潰\"          \n",
              " [25] \"各種\"           \"行動\"           \"限制\"           \"對於\"          \n",
              " [29] \"各國\"           \"之\"             \"經濟\"           \"更\"            \n",
              " [33] \"有\"             \"莫大\"           \"之\"             \"衝擊\"          \n",
              " [37] \"然而\"           \"台灣\"           \"未\"             \"實行\"          \n",
              " [41] \"大規模\"         \"封鎖\"           \"行動\"           \"維持\"          \n",
              " [45] \"正常\"           \"上班\"           \"上課\"           \"與\"            \n",
              " [49] \"各種\"           \"經濟\"           \"活動\"           \"至今\"          \n",
              " [53] \"無\"             \"大規模\"         \"疫情\"           \"爆發\"          \n",
              " [57] \"醫療\"           \"體系\"           \"也\"             \"仍\"            \n",
              " [61] \"能\"             \"正常\"           \"提供\"           \"民眾\"          \n",
              " [65] \"服務\"           \"顯示\"           \"台灣\"           \"的\"            \n",
              " [69] \"防疫\"           \"政策\"           \"正確\"           \"而\"            \n",
              " [73] \"有效\"           \"獲得\"           \"世界\"           \"各國\"          \n",
              " [77] \"高度肯定\"       \"國家衛生研究院\" \"群體\"           \"健康\"          \n",
              " [81] \"科學\"           \"研究所\"         \"與\"             \"感染\"          \n",
              " [85] \"症\"             \"與\"             \"疫苗\"           \"研究所\"        \n",
              " [89] \"合作\"           \"利用\"           \"真實\"           \"數據\"          \n",
              " [93] \"與\"             \"數學模型\"       \"證實\"           \"良好\"          \n",
              " [97] \"的\"             \"邊境\"           \"管控\"           \"詳盡\"          \n",
              "[101] \"的\"             \"疫情\"           \"調查\"           \"確實\"          \n",
              "[105] \"的\"             \"隔離\"           \"與\"             \"檢疫\"          \n",
              "[109] \"以及\"           \"民眾\"           \"遵行\"           \"防疫\"          \n",
              "[113] \"措施\"           \"為\"             \"台灣\"           \"抗疫\"          \n",
              "[117] \"四大\"           \"支柱\"           \"台灣\"           \"也\"            \n",
              "[121] \"對\"             \"世界\"           \"各國\"           \"提供\"          \n",
              "[125] \"各項\"           \"協助\"           \"與\"             \"經驗\"          \n",
              "[129] \"分享\"           \"期望\"           \"幫助\"           \"各國\"          \n",
              "[133] \"盡快\"           \"從\"             \"疫情\"           \"的\"            \n",
              "[137] \"陰霾\"           \"中\"             \"走出\"          "
            ],
            "text/latex": "\\begin{enumerate*}\n\\item '嚴重'\n\\item '特殊'\n\\item '傳染性'\n\\item '肺炎'\n\\item '疫情'\n\\item '持續'\n\\item '在'\n\\item '全球'\n\\item '蔓延'\n\\item '已'\n\\item '造成'\n\\item '三千多萬'\n\\item '人'\n\\item '感染'\n\\item '死亡'\n\\item '人數'\n\\item '破'\n\\item '百萬'\n\\item '人'\n\\item '歐美'\n\\item '醫療'\n\\item '體系'\n\\item '幾近'\n\\item '崩潰'\n\\item '各種'\n\\item '行動'\n\\item '限制'\n\\item '對於'\n\\item '各國'\n\\item '之'\n\\item '經濟'\n\\item '更'\n\\item '有'\n\\item '莫大'\n\\item '之'\n\\item '衝擊'\n\\item '然而'\n\\item '台灣'\n\\item '未'\n\\item '實行'\n\\item '大規模'\n\\item '封鎖'\n\\item '行動'\n\\item '維持'\n\\item '正常'\n\\item '上班'\n\\item '上課'\n\\item '與'\n\\item '各種'\n\\item '經濟'\n\\item '活動'\n\\item '至今'\n\\item '無'\n\\item '大規模'\n\\item '疫情'\n\\item '爆發'\n\\item '醫療'\n\\item '體系'\n\\item '也'\n\\item '仍'\n\\item '能'\n\\item '正常'\n\\item '提供'\n\\item '民眾'\n\\item '服務'\n\\item '顯示'\n\\item '台灣'\n\\item '的'\n\\item '防疫'\n\\item '政策'\n\\item '正確'\n\\item '而'\n\\item '有效'\n\\item '獲得'\n\\item '世界'\n\\item '各國'\n\\item '高度肯定'\n\\item '國家衛生研究院'\n\\item '群體'\n\\item '健康'\n\\item '科學'\n\\item '研究所'\n\\item '與'\n\\item '感染'\n\\item '症'\n\\item '與'\n\\item '疫苗'\n\\item '研究所'\n\\item '合作'\n\\item '利用'\n\\item '真實'\n\\item '數據'\n\\item '與'\n\\item '數學模型'\n\\item '證實'\n\\item '良好'\n\\item '的'\n\\item '邊境'\n\\item '管控'\n\\item '詳盡'\n\\item '的'\n\\item '疫情'\n\\item '調查'\n\\item '確實'\n\\item '的'\n\\item '隔離'\n\\item '與'\n\\item '檢疫'\n\\item '以及'\n\\item '民眾'\n\\item '遵行'\n\\item '防疫'\n\\item '措施'\n\\item '為'\n\\item '台灣'\n\\item '抗疫'\n\\item '四大'\n\\item '支柱'\n\\item '台灣'\n\\item '也'\n\\item '對'\n\\item '世界'\n\\item '各國'\n\\item '提供'\n\\item '各項'\n\\item '協助'\n\\item '與'\n\\item '經驗'\n\\item '分享'\n\\item '期望'\n\\item '幫助'\n\\item '各國'\n\\item '盡快'\n\\item '從'\n\\item '疫情'\n\\item '的'\n\\item '陰霾'\n\\item '中'\n\\item '走出'\n\\end{enumerate*}\n",
            "text/markdown": "1. '嚴重'\n2. '特殊'\n3. '傳染性'\n4. '肺炎'\n5. '疫情'\n6. '持續'\n7. '在'\n8. '全球'\n9. '蔓延'\n10. '已'\n11. '造成'\n12. '三千多萬'\n13. '人'\n14. '感染'\n15. '死亡'\n16. '人數'\n17. '破'\n18. '百萬'\n19. '人'\n20. '歐美'\n21. '醫療'\n22. '體系'\n23. '幾近'\n24. '崩潰'\n25. '各種'\n26. '行動'\n27. '限制'\n28. '對於'\n29. '各國'\n30. '之'\n31. '經濟'\n32. '更'\n33. '有'\n34. '莫大'\n35. '之'\n36. '衝擊'\n37. '然而'\n38. '台灣'\n39. '未'\n40. '實行'\n41. '大規模'\n42. '封鎖'\n43. '行動'\n44. '維持'\n45. '正常'\n46. '上班'\n47. '上課'\n48. '與'\n49. '各種'\n50. '經濟'\n51. '活動'\n52. '至今'\n53. '無'\n54. '大規模'\n55. '疫情'\n56. '爆發'\n57. '醫療'\n58. '體系'\n59. '也'\n60. '仍'\n61. '能'\n62. '正常'\n63. '提供'\n64. '民眾'\n65. '服務'\n66. '顯示'\n67. '台灣'\n68. '的'\n69. '防疫'\n70. '政策'\n71. '正確'\n72. '而'\n73. '有效'\n74. '獲得'\n75. '世界'\n76. '各國'\n77. '高度肯定'\n78. '國家衛生研究院'\n79. '群體'\n80. '健康'\n81. '科學'\n82. '研究所'\n83. '與'\n84. '感染'\n85. '症'\n86. '與'\n87. '疫苗'\n88. '研究所'\n89. '合作'\n90. '利用'\n91. '真實'\n92. '數據'\n93. '與'\n94. '數學模型'\n95. '證實'\n96. '良好'\n97. '的'\n98. '邊境'\n99. '管控'\n100. '詳盡'\n101. '的'\n102. '疫情'\n103. '調查'\n104. '確實'\n105. '的'\n106. '隔離'\n107. '與'\n108. '檢疫'\n109. '以及'\n110. '民眾'\n111. '遵行'\n112. '防疫'\n113. '措施'\n114. '為'\n115. '台灣'\n116. '抗疫'\n117. '四大'\n118. '支柱'\n119. '台灣'\n120. '也'\n121. '對'\n122. '世界'\n123. '各國'\n124. '提供'\n125. '各項'\n126. '協助'\n127. '與'\n128. '經驗'\n129. '分享'\n130. '期望'\n131. '幫助'\n132. '各國'\n133. '盡快'\n134. '從'\n135. '疫情'\n136. '的'\n137. '陰霾'\n138. '中'\n139. '走出'\n\n\n",
            "text/html": [
              "<style>\n",
              ".list-inline {list-style: none; margin:0; padding: 0}\n",
              ".list-inline>li {display: inline-block}\n",
              ".list-inline>li:not(:last-child)::after {content: \"\\00b7\"; padding: 0 .5ex}\n",
              "</style>\n",
              "<ol class=list-inline><li>'嚴重'</li><li>'特殊'</li><li>'傳染性'</li><li>'肺炎'</li><li>'疫情'</li><li>'持續'</li><li>'在'</li><li>'全球'</li><li>'蔓延'</li><li>'已'</li><li>'造成'</li><li>'三千多萬'</li><li>'人'</li><li>'感染'</li><li>'死亡'</li><li>'人數'</li><li>'破'</li><li>'百萬'</li><li>'人'</li><li>'歐美'</li><li>'醫療'</li><li>'體系'</li><li>'幾近'</li><li>'崩潰'</li><li>'各種'</li><li>'行動'</li><li>'限制'</li><li>'對於'</li><li>'各國'</li><li>'之'</li><li>'經濟'</li><li>'更'</li><li>'有'</li><li>'莫大'</li><li>'之'</li><li>'衝擊'</li><li>'然而'</li><li>'台灣'</li><li>'未'</li><li>'實行'</li><li>'大規模'</li><li>'封鎖'</li><li>'行動'</li><li>'維持'</li><li>'正常'</li><li>'上班'</li><li>'上課'</li><li>'與'</li><li>'各種'</li><li>'經濟'</li><li>'活動'</li><li>'至今'</li><li>'無'</li><li>'大規模'</li><li>'疫情'</li><li>'爆發'</li><li>'醫療'</li><li>'體系'</li><li>'也'</li><li>'仍'</li><li>'能'</li><li>'正常'</li><li>'提供'</li><li>'民眾'</li><li>'服務'</li><li>'顯示'</li><li>'台灣'</li><li>'的'</li><li>'防疫'</li><li>'政策'</li><li>'正確'</li><li>'而'</li><li>'有效'</li><li>'獲得'</li><li>'世界'</li><li>'各國'</li><li>'高度肯定'</li><li>'國家衛生研究院'</li><li>'群體'</li><li>'健康'</li><li>'科學'</li><li>'研究所'</li><li>'與'</li><li>'感染'</li><li>'症'</li><li>'與'</li><li>'疫苗'</li><li>'研究所'</li><li>'合作'</li><li>'利用'</li><li>'真實'</li><li>'數據'</li><li>'與'</li><li>'數學模型'</li><li>'證實'</li><li>'良好'</li><li>'的'</li><li>'邊境'</li><li>'管控'</li><li>'詳盡'</li><li>'的'</li><li>'疫情'</li><li>'調查'</li><li>'確實'</li><li>'的'</li><li>'隔離'</li><li>'與'</li><li>'檢疫'</li><li>'以及'</li><li>'民眾'</li><li>'遵行'</li><li>'防疫'</li><li>'措施'</li><li>'為'</li><li>'台灣'</li><li>'抗疫'</li><li>'四大'</li><li>'支柱'</li><li>'台灣'</li><li>'也'</li><li>'對'</li><li>'世界'</li><li>'各國'</li><li>'提供'</li><li>'各項'</li><li>'協助'</li><li>'與'</li><li>'經驗'</li><li>'分享'</li><li>'期望'</li><li>'幫助'</li><li>'各國'</li><li>'盡快'</li><li>'從'</li><li>'疫情'</li><li>'的'</li><li>'陰霾'</li><li>'中'</li><li>'走出'</li></ol>\n"
            ]
          },
          "metadata": {
            "tags": []
          }
        }
      ]
    },
    {
      "cell_type": "code",
      "metadata": {
        "id": "NRNw3f8wRVFt"
      },
      "source": [
        "new_words <-c(\"傳染性肺炎\",\"醫療體系\",\"防疫措施\")\n"
      ],
      "execution_count": 51,
      "outputs": []
    },
    {
      "cell_type": "code",
      "metadata": {
        "colab": {
          "base_uri": "https://localhost:8080/",
          "height": 34
        },
        "id": "mgxus0LcdboA",
        "outputId": "ae962a42-e468-4479-f966-961dd0a2eee8"
      },
      "source": [
        "new_words"
      ],
      "execution_count": 52,
      "outputs": [
        {
          "output_type": "display_data",
          "data": {
            "text/plain": [
              "[1] \"傳染性肺炎\" \"醫療體系\"   \"防疫措施\"  "
            ],
            "text/latex": "\\begin{enumerate*}\n\\item '傳染性肺炎'\n\\item '醫療體系'\n\\item '防疫措施'\n\\end{enumerate*}\n",
            "text/markdown": "1. '傳染性肺炎'\n2. '醫療體系'\n3. '防疫措施'\n\n\n",
            "text/html": [
              "<style>\n",
              ".list-inline {list-style: none; margin:0; padding: 0}\n",
              ".list-inline>li {display: inline-block}\n",
              ".list-inline>li:not(:last-child)::after {content: \"\\00b7\"; padding: 0 .5ex}\n",
              "</style>\n",
              "<ol class=list-inline><li>'傳染性肺炎'</li><li>'醫療體系'</li><li>'防疫措施'</li></ol>\n"
            ]
          },
          "metadata": {
            "tags": []
          }
        }
      ]
    },
    {
      "cell_type": "code",
      "metadata": {
        "colab": {
          "base_uri": "https://localhost:8080/",
          "height": 34
        },
        "id": "PcS0ohfSWWlN",
        "outputId": "d49005dc-0e36-4cd8-a29e-7cefa3d7747e"
      },
      "source": [
        "cutter <- str_remove_all(content,\"[0-9a-zA-Z]+?\")\n",
        "cutter[content]"
      ],
      "execution_count": 54,
      "outputs": [
        {
          "output_type": "display_data",
          "data": {
            "text/plain": [
              "[1] NA"
            ],
            "text/latex": "NA",
            "text/markdown": "NA",
            "text/html": [
              "NA"
            ]
          },
          "metadata": {
            "tags": []
          }
        }
      ]
    },
    {
      "cell_type": "code",
      "metadata": {
        "id": "KWcAYHCQWzKN"
      },
      "source": [
        "new_words <-c(\"傳染性肺炎\",\"醫療體系\",\"防疫措施\")\n",
        "writeLines(new_words,\"new_words.txt\")"
      ],
      "execution_count": 57,
      "outputs": []
    },
    {
      "cell_type": "code",
      "metadata": {
        "id": "Y4J4DLEXSbKt"
      },
      "source": [
        "stop_words <-c(\"在\",\"之\",\"更\",\"個\",\"未\",\"而\",\"也\",\"的\")\n",
        "writeLines(stop_words,\"stop_words.txt\")"
      ],
      "execution_count": 60,
      "outputs": []
    },
    {
      "cell_type": "code",
      "metadata": {
        "colab": {
          "base_uri": "https://localhost:8080/",
          "height": 136
        },
        "id": "VFGDzxz_TFyu",
        "outputId": "a6d27653-4c27-4629-9a3e-8c5fd4b50e0d"
      },
      "source": [
        "cutter <- worker(user = \"new_words.txt\",stop_word=\"stop_words.txt\",bylines=FALSE)\n",
        "seg_words <- cutter[content]\n",
        "seg_words"
      ],
      "execution_count": 70,
      "outputs": [
        {
          "output_type": "display_data",
          "data": {
            "text/plain": [
              "  [1] \"嚴重\"           \"特殊\"           \"傳染性肺炎\"     \"疫情\"          \n",
              "  [5] \"持續\"           \"全球\"           \"蔓延\"           \"已\"            \n",
              "  [9] \"造成\"           \"三千多萬\"       \"人\"             \"感染\"          \n",
              " [13] \"死亡\"           \"人數\"           \"破\"             \"百萬\"          \n",
              " [17] \"人\"             \"歐美\"           \"醫療體系\"       \"幾近\"          \n",
              " [21] \"崩潰\"           \"各種\"           \"行動\"           \"限制\"          \n",
              " [25] \"對於\"           \"各國\"           \"經濟\"           \"有\"            \n",
              " [29] \"莫大\"           \"衝擊\"           \"然而\"           \"台灣\"          \n",
              " [33] \"實行\"           \"大規模\"         \"封鎖\"           \"行動\"          \n",
              " [37] \"維持\"           \"正常\"           \"上班\"           \"上課\"          \n",
              " [41] \"與\"             \"各種\"           \"經濟\"           \"活動\"          \n",
              " [45] \"至今\"           \"無\"             \"大規模\"         \"疫情\"          \n",
              " [49] \"爆發\"           \"醫療體系\"       \"仍\"             \"能\"            \n",
              " [53] \"正常\"           \"提供\"           \"民眾\"           \"服務\"          \n",
              " [57] \"顯示\"           \"台灣\"           \"防疫\"           \"政策\"          \n",
              " [61] \"正確\"           \"有效\"           \"獲得\"           \"世界\"          \n",
              " [65] \"各國\"           \"高度肯定\"       \"國家衛生研究院\" \"群體\"          \n",
              " [69] \"健康\"           \"科學\"           \"研究所\"         \"與\"            \n",
              " [73] \"感染\"           \"症\"             \"與\"             \"疫苗\"          \n",
              " [77] \"研究所\"         \"合作\"           \"利用\"           \"真實\"          \n",
              " [81] \"數據\"           \"與\"             \"數學模型\"       \"證實\"          \n",
              " [85] \"良好\"           \"邊境\"           \"管控\"           \"詳盡\"          \n",
              " [89] \"疫情\"           \"調查\"           \"確實\"           \"隔離\"          \n",
              " [93] \"與\"             \"檢疫\"           \"以及\"           \"民眾\"          \n",
              " [97] \"遵行\"           \"防疫措施\"       \"為\"             \"台灣\"          \n",
              "[101] \"抗疫\"           \"四大\"           \"支柱\"           \"台灣\"          \n",
              "[105] \"對\"             \"世界\"           \"各國\"           \"提供\"          \n",
              "[109] \"各項\"           \"協助\"           \"與\"             \"經驗\"          \n",
              "[113] \"分享\"           \"期望\"           \"幫助\"           \"各國\"          \n",
              "[117] \"盡快\"           \"從\"             \"疫情\"           \"陰霾\"          \n",
              "[121] \"中\"             \"走出\"          "
            ],
            "text/latex": "\\begin{enumerate*}\n\\item '嚴重'\n\\item '特殊'\n\\item '傳染性肺炎'\n\\item '疫情'\n\\item '持續'\n\\item '全球'\n\\item '蔓延'\n\\item '已'\n\\item '造成'\n\\item '三千多萬'\n\\item '人'\n\\item '感染'\n\\item '死亡'\n\\item '人數'\n\\item '破'\n\\item '百萬'\n\\item '人'\n\\item '歐美'\n\\item '醫療體系'\n\\item '幾近'\n\\item '崩潰'\n\\item '各種'\n\\item '行動'\n\\item '限制'\n\\item '對於'\n\\item '各國'\n\\item '經濟'\n\\item '有'\n\\item '莫大'\n\\item '衝擊'\n\\item '然而'\n\\item '台灣'\n\\item '實行'\n\\item '大規模'\n\\item '封鎖'\n\\item '行動'\n\\item '維持'\n\\item '正常'\n\\item '上班'\n\\item '上課'\n\\item '與'\n\\item '各種'\n\\item '經濟'\n\\item '活動'\n\\item '至今'\n\\item '無'\n\\item '大規模'\n\\item '疫情'\n\\item '爆發'\n\\item '醫療體系'\n\\item '仍'\n\\item '能'\n\\item '正常'\n\\item '提供'\n\\item '民眾'\n\\item '服務'\n\\item '顯示'\n\\item '台灣'\n\\item '防疫'\n\\item '政策'\n\\item '正確'\n\\item '有效'\n\\item '獲得'\n\\item '世界'\n\\item '各國'\n\\item '高度肯定'\n\\item '國家衛生研究院'\n\\item '群體'\n\\item '健康'\n\\item '科學'\n\\item '研究所'\n\\item '與'\n\\item '感染'\n\\item '症'\n\\item '與'\n\\item '疫苗'\n\\item '研究所'\n\\item '合作'\n\\item '利用'\n\\item '真實'\n\\item '數據'\n\\item '與'\n\\item '數學模型'\n\\item '證實'\n\\item '良好'\n\\item '邊境'\n\\item '管控'\n\\item '詳盡'\n\\item '疫情'\n\\item '調查'\n\\item '確實'\n\\item '隔離'\n\\item '與'\n\\item '檢疫'\n\\item '以及'\n\\item '民眾'\n\\item '遵行'\n\\item '防疫措施'\n\\item '為'\n\\item '台灣'\n\\item '抗疫'\n\\item '四大'\n\\item '支柱'\n\\item '台灣'\n\\item '對'\n\\item '世界'\n\\item '各國'\n\\item '提供'\n\\item '各項'\n\\item '協助'\n\\item '與'\n\\item '經驗'\n\\item '分享'\n\\item '期望'\n\\item '幫助'\n\\item '各國'\n\\item '盡快'\n\\item '從'\n\\item '疫情'\n\\item '陰霾'\n\\item '中'\n\\item '走出'\n\\end{enumerate*}\n",
            "text/markdown": "1. '嚴重'\n2. '特殊'\n3. '傳染性肺炎'\n4. '疫情'\n5. '持續'\n6. '全球'\n7. '蔓延'\n8. '已'\n9. '造成'\n10. '三千多萬'\n11. '人'\n12. '感染'\n13. '死亡'\n14. '人數'\n15. '破'\n16. '百萬'\n17. '人'\n18. '歐美'\n19. '醫療體系'\n20. '幾近'\n21. '崩潰'\n22. '各種'\n23. '行動'\n24. '限制'\n25. '對於'\n26. '各國'\n27. '經濟'\n28. '有'\n29. '莫大'\n30. '衝擊'\n31. '然而'\n32. '台灣'\n33. '實行'\n34. '大規模'\n35. '封鎖'\n36. '行動'\n37. '維持'\n38. '正常'\n39. '上班'\n40. '上課'\n41. '與'\n42. '各種'\n43. '經濟'\n44. '活動'\n45. '至今'\n46. '無'\n47. '大規模'\n48. '疫情'\n49. '爆發'\n50. '醫療體系'\n51. '仍'\n52. '能'\n53. '正常'\n54. '提供'\n55. '民眾'\n56. '服務'\n57. '顯示'\n58. '台灣'\n59. '防疫'\n60. '政策'\n61. '正確'\n62. '有效'\n63. '獲得'\n64. '世界'\n65. '各國'\n66. '高度肯定'\n67. '國家衛生研究院'\n68. '群體'\n69. '健康'\n70. '科學'\n71. '研究所'\n72. '與'\n73. '感染'\n74. '症'\n75. '與'\n76. '疫苗'\n77. '研究所'\n78. '合作'\n79. '利用'\n80. '真實'\n81. '數據'\n82. '與'\n83. '數學模型'\n84. '證實'\n85. '良好'\n86. '邊境'\n87. '管控'\n88. '詳盡'\n89. '疫情'\n90. '調查'\n91. '確實'\n92. '隔離'\n93. '與'\n94. '檢疫'\n95. '以及'\n96. '民眾'\n97. '遵行'\n98. '防疫措施'\n99. '為'\n100. '台灣'\n101. '抗疫'\n102. '四大'\n103. '支柱'\n104. '台灣'\n105. '對'\n106. '世界'\n107. '各國'\n108. '提供'\n109. '各項'\n110. '協助'\n111. '與'\n112. '經驗'\n113. '分享'\n114. '期望'\n115. '幫助'\n116. '各國'\n117. '盡快'\n118. '從'\n119. '疫情'\n120. '陰霾'\n121. '中'\n122. '走出'\n\n\n",
            "text/html": [
              "<style>\n",
              ".list-inline {list-style: none; margin:0; padding: 0}\n",
              ".list-inline>li {display: inline-block}\n",
              ".list-inline>li:not(:last-child)::after {content: \"\\00b7\"; padding: 0 .5ex}\n",
              "</style>\n",
              "<ol class=list-inline><li>'嚴重'</li><li>'特殊'</li><li>'傳染性肺炎'</li><li>'疫情'</li><li>'持續'</li><li>'全球'</li><li>'蔓延'</li><li>'已'</li><li>'造成'</li><li>'三千多萬'</li><li>'人'</li><li>'感染'</li><li>'死亡'</li><li>'人數'</li><li>'破'</li><li>'百萬'</li><li>'人'</li><li>'歐美'</li><li>'醫療體系'</li><li>'幾近'</li><li>'崩潰'</li><li>'各種'</li><li>'行動'</li><li>'限制'</li><li>'對於'</li><li>'各國'</li><li>'經濟'</li><li>'有'</li><li>'莫大'</li><li>'衝擊'</li><li>'然而'</li><li>'台灣'</li><li>'實行'</li><li>'大規模'</li><li>'封鎖'</li><li>'行動'</li><li>'維持'</li><li>'正常'</li><li>'上班'</li><li>'上課'</li><li>'與'</li><li>'各種'</li><li>'經濟'</li><li>'活動'</li><li>'至今'</li><li>'無'</li><li>'大規模'</li><li>'疫情'</li><li>'爆發'</li><li>'醫療體系'</li><li>'仍'</li><li>'能'</li><li>'正常'</li><li>'提供'</li><li>'民眾'</li><li>'服務'</li><li>'顯示'</li><li>'台灣'</li><li>'防疫'</li><li>'政策'</li><li>'正確'</li><li>'有效'</li><li>'獲得'</li><li>'世界'</li><li>'各國'</li><li>'高度肯定'</li><li>'國家衛生研究院'</li><li>'群體'</li><li>'健康'</li><li>'科學'</li><li>'研究所'</li><li>'與'</li><li>'感染'</li><li>'症'</li><li>'與'</li><li>'疫苗'</li><li>'研究所'</li><li>'合作'</li><li>'利用'</li><li>'真實'</li><li>'數據'</li><li>'與'</li><li>'數學模型'</li><li>'證實'</li><li>'良好'</li><li>'邊境'</li><li>'管控'</li><li>'詳盡'</li><li>'疫情'</li><li>'調查'</li><li>'確實'</li><li>'隔離'</li><li>'與'</li><li>'檢疫'</li><li>'以及'</li><li>'民眾'</li><li>'遵行'</li><li>'防疫措施'</li><li>'為'</li><li>'台灣'</li><li>'抗疫'</li><li>'四大'</li><li>'支柱'</li><li>'台灣'</li><li>'對'</li><li>'世界'</li><li>'各國'</li><li>'提供'</li><li>'各項'</li><li>'協助'</li><li>'與'</li><li>'經驗'</li><li>'分享'</li><li>'期望'</li><li>'幫助'</li><li>'各國'</li><li>'盡快'</li><li>'從'</li><li>'疫情'</li><li>'陰霾'</li><li>'中'</li><li>'走出'</li></ol>\n"
            ]
          },
          "metadata": {
            "tags": []
          }
        }
      ]
    },
    {
      "cell_type": "code",
      "metadata": {
        "colab": {
          "base_uri": "https://localhost:8080/",
          "height": 1000
        },
        "id": "KJPmxFCaV6f2",
        "outputId": "c94d1df6-3cf1-4f71-d1f9-80cd4edb55b8"
      },
      "source": [
        "txt_freq <- freq(seg_words)\n",
        "txt_freq <- arrange(txt_freq,desc(freg))\n",
        "head(txt_freq)"
      ],
      "execution_count": 71,
      "outputs": [
        {
          "output_type": "error",
          "ename": "ERROR",
          "evalue": "ignored",
          "traceback": [
            "Error: arrange() failed at implicit mutate() step. \n* Problem with `mutate()` input `..1`.\n\u001b[31m✖\u001b[39m object 'freg' not found\n\u001b[34mℹ\u001b[39m Input `..1` is `freg`.\nTraceback:\n",
            "1. arrange(txt_freq, desc(freg))",
            "2. arrange.data.frame(txt_freq, desc(freg))",
            "3. arrange_rows(.data, dots)",
            "4. withCallingHandlers({\n .     transmute(new_data_frame(.data), !!!quosures)\n . }, error = function(cnd) {\n .     if (inherits(cnd, \"dplyr:::mutate_error\")) {\n .         bullets <- gsub(\"^^--arrange_quosure_\", \"..\", cnd$bullets, \n .             fixed = TRUE)\n .     }\n .     else {\n .         bullets <- c(x = conditionMessage(cnd))\n .     }\n .     abort(c(\"arrange() failed at implicit mutate() step. \", bullets), \n .         class = \"dplyr_error\")\n . })",
            "5. transmute(new_data_frame(.data), !!!quosures)",
            "6. transmute.data.frame(new_data_frame(.data), !!!quosures)",
            "7. mutate(.data, ..., .keep = \"none\")",
            "8. mutate.data.frame(.data, ..., .keep = \"none\")",
            "9. mutate_cols(.data, ...)",
            "10. withCallingHandlers({\n  .     for (i in seq_along(dots)) {\n  .         mask$across_cache_reset()\n  .         quosures <- expand_quosure(dots[[i]])\n  .         quosures_results <- vector(mode = \"list\", length = length(quosures))\n  .         for (k in seq_along(quosures)) {\n  .             quo <- quosures[[k]]\n  .             quo_data <- attr(quo, \"dplyr:::data\")\n  .             context_poke(\"column\", quo_data$column)\n  .             chunks <- NULL\n  .             result <- NULL\n  .             if (quo_is_symbol(quo)) {\n  .                 name <- as_string(quo_get_expr(quo))\n  .                 if (name %in% names(new_columns)) {\n  .                   result <- new_columns[[name]]\n  .                   chunks <- mask$resolve(name)\n  .                 }\n  .                 else if (name %in% names(.data)) {\n  .                   result <- .data[[name]]\n  .                   chunks <- mask$resolve(name)\n  .                 }\n  .                 if (inherits(.data, \"rowwise_df\") && vec_is_list(result)) {\n  .                   sizes <- list_sizes(result)\n  .                   wrong <- which(sizes != 1)\n  .                   if (length(wrong)) {\n  .                     group <- wrong[1L]\n  .                     mask$set_current_group(group)\n  .                     abort(x_size = sizes[group], class = \"dplyr:::mutate_incompatible_size\")\n  .                   }\n  .                 }\n  .             }\n  .             if (is.null(chunks)) {\n  .                 chunks <- mask$eval_all_mutate(quo)\n  .             }\n  .             if (is.null(chunks)) {\n  .                 next\n  .             }\n  .             if (is.null(result)) {\n  .                 if (length(rows) == 1) {\n  .                   result <- chunks[[1]]\n  .                 }\n  .                 else {\n  .                   result <- withCallingHandlers(vec_unchop(chunks <- vec_cast_common(!!!chunks), \n  .                     rows), vctrs_error_incompatible_type = function(cnd) {\n  .                     abort(class = \"dplyr:::error_mutate_incompatible_combine\", \n  .                       parent = cnd)\n  .                   })\n  .                 }\n  .             }\n  .             quosures_results[[k]] <- list(result = result, chunks = chunks)\n  .         }\n  .         for (k in seq_along(quosures)) {\n  .             quo <- quosures[[k]]\n  .             quo_data <- attr(quo, \"dplyr:::data\")\n  .             quo_result <- quosures_results[[k]]\n  .             if (is.null(quo_result)) {\n  .                 if (quo_data$is_named) {\n  .                   name <- quo_data$name_given\n  .                   new_columns[[name]] <- zap()\n  .                   mask$remove(name)\n  .                 }\n  .                 next\n  .             }\n  .             result <- quo_result$result\n  .             chunks <- quo_result$chunks\n  .             if (!quo_data$is_named && is.data.frame(result)) {\n  .                 new_columns[names(result)] <- result\n  .                 mask$add_many(result, chunks)\n  .             }\n  .             else {\n  .                 name <- quo_data$name_auto\n  .                 new_columns[[name]] <- result\n  .                 mask$add_one(name, chunks)\n  .             }\n  .         }\n  .     }\n  . }, error = function(e) {\n  .     local_call_step(dots = dots, .index = i, .fn = \"mutate\", \n  .         .dot_data = inherits(e, \"rlang_error_data_pronoun_not_found\"))\n  .     call_step_envir <- peek_call_step()\n  .     error_name <- call_step_envir$error_name\n  .     error_expression <- call_step_envir$error_expression\n  .     show_group_details <- TRUE\n  .     if (inherits(e, \"dplyr:::mutate_incompatible_size\")) {\n  .         size <- vec_size(rows[[mask$get_current_group()]])\n  .         x_size <- e$x_size\n  .         bullets <- c(x = glue(\"Input `{error_name}` can't be recycled to size {size}.\"), \n  .             i = cnd_bullet_input_info(), i = glue(\"Input `{error_name}` must be size {or_1(size)}, not {x_size}.\"), \n  .             i = cnd_bullet_rowwise_unlist())\n  .     }\n  .     else if (inherits(e, \"dplyr:::mutate_mixed_null\")) {\n  .         show_group_details <- FALSE\n  .         bullets <- c(x = glue(\"`{error_name}` must return compatible vectors across groups.\"), \n  .             i = cnd_bullet_input_info(), i = \"Cannot combine NULL and non NULL results.\", \n  .             i = cnd_bullet_rowwise_unlist())\n  .     }\n  .     else if (inherits(e, \"dplyr:::mutate_not_vector\")) {\n  .         bullets <- c(x = glue(\"Input `{error_name}` must be a vector, not {friendly_type_of(e$result)}.\"), \n  .             i = cnd_bullet_input_info(), i = cnd_bullet_rowwise_unlist())\n  .     }\n  .     else if (inherits(e, \"dplyr:::error_mutate_incompatible_combine\")) {\n  .         show_group_details <- FALSE\n  .         bullets <- c(x = glue(\"Input `{error_name}` must return compatible vectors across groups\"), \n  .             i = cnd_bullet_input_info(), i = cnd_bullet_combine_details(e$parent$x, \n  .                 e$parent$x_arg), i = cnd_bullet_combine_details(e$parent$y, \n  .                 e$parent$y_arg))\n  .     }\n  .     else {\n  .         bullets <- c(x = conditionMessage(e), i = cnd_bullet_input_info())\n  .     }\n  .     bullets <- c(cnd_bullet_header(), bullets, i = if (show_group_details) cnd_bullet_cur_group_label())\n  .     abort(bullets, class = c(\"dplyr:::mutate_error\", \"dplyr_error\"), \n  .         error_name = error_name, error_expression = error_expression, \n  .         parent = e, bullets = bullets)\n  . }, warning = function(w) {\n  .     if (check_muffled_warning(w)) {\n  .         maybe_restart(\"muffleWarning\")\n  .     }\n  .     local_call_step(dots = dots, .index = i, .fn = \"mutate\")\n  .     warn(c(cnd_bullet_header(), i = conditionMessage(w), i = cnd_bullet_input_info(), \n  .         i = cnd_bullet_cur_group_label(what = \"warning\")))\n  .     maybe_restart(\"muffleWarning\")\n  . })",
            "11. mask$eval_all_mutate(quo)",
            "12. .handleSimpleError(function (e) \n  . {\n  .     local_call_step(dots = dots, .index = i, .fn = \"mutate\", \n  .         .dot_data = inherits(e, \"rlang_error_data_pronoun_not_found\"))\n  .     call_step_envir <- peek_call_step()\n  .     error_name <- call_step_envir$error_name\n  .     error_expression <- call_step_envir$error_expression\n  .     show_group_details <- TRUE\n  .     if (inherits(e, \"dplyr:::mutate_incompatible_size\")) {\n  .         size <- vec_size(rows[[mask$get_current_group()]])\n  .         x_size <- e$x_size\n  .         bullets <- c(x = glue(\"Input `{error_name}` can't be recycled to size {size}.\"), \n  .             i = cnd_bullet_input_info(), i = glue(\"Input `{error_name}` must be size {or_1(size)}, not {x_size}.\"), \n  .             i = cnd_bullet_rowwise_unlist())\n  .     }\n  .     else if (inherits(e, \"dplyr:::mutate_mixed_null\")) {\n  .         show_group_details <- FALSE\n  .         bullets <- c(x = glue(\"`{error_name}` must return compatible vectors across groups.\"), \n  .             i = cnd_bullet_input_info(), i = \"Cannot combine NULL and non NULL results.\", \n  .             i = cnd_bullet_rowwise_unlist())\n  .     }\n  .     else if (inherits(e, \"dplyr:::mutate_not_vector\")) {\n  .         bullets <- c(x = glue(\"Input `{error_name}` must be a vector, not {friendly_type_of(e$result)}.\"), \n  .             i = cnd_bullet_input_info(), i = cnd_bullet_rowwise_unlist())\n  .     }\n  .     else if (inherits(e, \"dplyr:::error_mutate_incompatible_combine\")) {\n  .         show_group_details <- FALSE\n  .         bullets <- c(x = glue(\"Input `{error_name}` must return compatible vectors across groups\"), \n  .             i = cnd_bullet_input_info(), i = cnd_bullet_combine_details(e$parent$x, \n  .                 e$parent$x_arg), i = cnd_bullet_combine_details(e$parent$y, \n  .                 e$parent$y_arg))\n  .     }\n  .     else {\n  .         bullets <- c(x = conditionMessage(e), i = cnd_bullet_input_info())\n  .     }\n  .     bullets <- c(cnd_bullet_header(), bullets, i = if (show_group_details) cnd_bullet_cur_group_label())\n  .     abort(bullets, class = c(\"dplyr:::mutate_error\", \"dplyr_error\"), \n  .         error_name = error_name, error_expression = error_expression, \n  .         parent = e, bullets = bullets)\n  . }, \"object 'freg' not found\", base::quote(mask$eval_all_mutate(quo)))",
            "13. h(simpleError(msg, call))",
            "14. abort(bullets, class = c(\"dplyr:::mutate_error\", \"dplyr_error\"), \n  .     error_name = error_name, error_expression = error_expression, \n  .     parent = e, bullets = bullets)",
            "15. signal_abort(cnd)",
            "16. signalCondition(cnd)",
            "17. (function (cnd) \n  . {\n  .     if (inherits(cnd, \"dplyr:::mutate_error\")) {\n  .         bullets <- gsub(\"^^--arrange_quosure_\", \"..\", cnd$bullets, \n  .             fixed = TRUE)\n  .     }\n  .     else {\n  .         bullets <- c(x = conditionMessage(cnd))\n  .     }\n  .     abort(c(\"arrange() failed at implicit mutate() step. \", bullets), \n  .         class = \"dplyr_error\")\n  . })(structure(list(message = \"Problem with `mutate()` input `^^--arrange_quosure_1`.\\n\\033[31m✖\\033[39m object 'freg' not found\\n\\033[34mℹ\\033[39m Input `^^--arrange_quosure_1` is `freg`.\", \n  .     trace = structure(list(calls = list(IRkernel::main(), kernel$run(), \n  .         IRkernel:::handle_shell(), executor$execute(msg), base::tryCatch(evaluate(request$content$code, \n  .             envir = .GlobalEnv, output_handler = oh, stop_on_error = 1L), \n  .             interrupt = function(cond) {\n  .                 log_debug(\"Interrupt during execution\")\n  .                 interrupted <<- TRUE\n  .             }, error = .self$handle_error), base:::tryCatchList(expr, \n  .             classes, parentenv, handlers), base:::tryCatchOne(tryCatchList(expr, \n  .             names[-nh], parentenv, handlers[-nh]), names[nh], \n  .             parentenv, handlers[[nh]]), base:::doTryCatch(return(expr), \n  .             name, parentenv, handler), base:::tryCatchList(expr, \n  .             names[-nh], parentenv, handlers[-nh]), base:::tryCatchOne(expr, \n  .             names, parentenv, handlers[[1L]]), base:::doTryCatch(return(expr), \n  .             name, parentenv, handler), evaluate::evaluate(request$content$code, \n  .             envir = .GlobalEnv, output_handler = oh, stop_on_error = 1L), \n  .         evaluate:::evaluate_call(expr, parsed$src[[i]], envir = envir, \n  .             enclos = enclos, debug = debug, last = i == length(out), \n  .             use_try = stop_on_error != 2L, keep_warning = keep_warning, \n  .             keep_message = keep_message, output_handler = output_handler, \n  .             include_timing = include_timing), evaluate:::timing_fn(handle(ev <- withCallingHandlers(withVisible(eval(expr, \n  .             envir, enclos)), warning = wHandler, error = eHandler, \n  .             message = mHandler))), evaluate:::handle(ev <- withCallingHandlers(withVisible(eval(expr, \n  .             envir, enclos)), warning = wHandler, error = eHandler, \n  .             message = mHandler)), base::try(f, silent = TRUE), \n  .         base::tryCatch(expr, error = function(e) {\n  .             call <- conditionCall(e)\n  .             if (!is.null(call)) {\n  .                 if (identical(call[[1L]], quote(doTryCatch))) \n  .                   call <- sys.call(-4L)\n  .                 dcall <- deparse(call)[1L]\n  .                 prefix <- paste(\"Error in\", dcall, \": \")\n  .                 LONG <- 75L\n  .                 sm <- strsplit(conditionMessage(e), \"\\n\")[[1L]]\n  .                 w <- 14L + nchar(dcall, type = \"w\") + nchar(sm[1L], \n  .                   type = \"w\")\n  .                 if (is.na(w)) \n  .                   w <- 14L + nchar(dcall, type = \"b\") + nchar(sm[1L], \n  .                     type = \"b\")\n  .                 if (w > LONG) \n  .                   prefix <- paste0(prefix, \"\\n  \")\n  .             }\n  .             else prefix <- \"Error : \"\n  .             msg <- paste0(prefix, conditionMessage(e), \"\\n\")\n  .             .Internal(seterrmessage(msg[1L]))\n  .             if (!silent && isTRUE(getOption(\"show.error.messages\"))) {\n  .                 cat(msg, file = outFile)\n  .                 .Internal(printDeferredWarnings())\n  .             }\n  .             invisible(structure(msg, class = \"try-error\", condition = e))\n  .         }), base:::tryCatchList(expr, classes, parentenv, handlers), \n  .         base:::tryCatchOne(expr, names, parentenv, handlers[[1L]]), \n  .         base:::doTryCatch(return(expr), name, parentenv, handler), \n  .         base::withCallingHandlers(withVisible(eval(expr, envir, \n  .             enclos)), warning = wHandler, error = eHandler, message = mHandler), \n  .         base::withVisible(eval(expr, envir, enclos)), base::eval(expr, \n  .             envir, enclos), base::eval(expr, envir, enclos), \n  .         dplyr::arrange(txt_freq, desc(freg)), dplyr:::arrange.data.frame(txt_freq, \n  .             desc(freg)), dplyr:::arrange_rows(.data, dots), base::withCallingHandlers({\n  .             transmute(new_data_frame(.data), !!!quosures)\n  .         }, error = function(cnd) {\n  .             if (inherits(cnd, \"dplyr:::mutate_error\")) {\n  .                 bullets <- gsub(\"^^--arrange_quosure_\", \"..\", \n  .                   cnd$bullets, fixed = TRUE)\n  .             }\n  .             else {\n  .                 bullets <- c(x = conditionMessage(cnd))\n  .             }\n  .             abort(c(\"arrange() failed at implicit mutate() step. \", \n  .                 bullets), class = \"dplyr_error\")\n  .         }), dplyr::transmute(new_data_frame(.data), !!!quosures), \n  .         dplyr:::transmute.data.frame(new_data_frame(.data), !!!quosures), \n  .         dplyr::mutate(.data, ..., .keep = \"none\"), dplyr:::mutate.data.frame(.data, \n  .             ..., .keep = \"none\"), dplyr:::mutate_cols(.data, \n  .             ...), base::withCallingHandlers({\n  .             for (i in seq_along(dots)) {\n  .                 mask$across_cache_reset()\n  .                 quosures <- expand_quosure(dots[[i]])\n  .                 quosures_results <- vector(mode = \"list\", length = length(quosures))\n  .                 for (k in seq_along(quosures)) {\n  .                   quo <- quosures[[k]]\n  .                   quo_data <- attr(quo, \"dplyr:::data\")\n  .                   context_poke(\"column\", quo_data$column)\n  .                   chunks <- NULL\n  .                   result <- NULL\n  .                   if (quo_is_symbol(quo)) {\n  .                     name <- as_string(quo_get_expr(quo))\n  .                     if (name %in% names(new_columns)) {\n  .                       result <- new_columns[[name]]\n  .                       chunks <- mask$resolve(name)\n  .                     }\n  .                     else if (name %in% names(.data)) {\n  .                       result <- .data[[name]]\n  .                       chunks <- mask$resolve(name)\n  .                     }\n  .                     if (inherits(.data, \"rowwise_df\") && vec_is_list(result)) {\n  .                       sizes <- list_sizes(result)\n  .                       wrong <- which(sizes != 1)\n  .                       if (length(wrong)) {\n  .                         group <- wrong[1L]\n  .                         mask$set_current_group(group)\n  .                         abort(x_size = sizes[group], class = \"dplyr:::mutate_incompatible_size\")\n  .                       }\n  .                     }\n  .                   }\n  .                   if (is.null(chunks)) {\n  .                     chunks <- mask$eval_all_mutate(quo)\n  .                   }\n  .                   if (is.null(chunks)) {\n  .                     next\n  .                   }\n  .                   if (is.null(result)) {\n  .                     if (length(rows) == 1) {\n  .                       result <- chunks[[1]]\n  .                     }\n  .                     else {\n  .                       result <- withCallingHandlers(vec_unchop(chunks <- vec_cast_common(!!!chunks), \n  .                         rows), vctrs_error_incompatible_type = function(cnd) {\n  .                         abort(class = \"dplyr:::error_mutate_incompatible_combine\", \n  .                           parent = cnd)\n  .                       })\n  .                     }\n  .                   }\n  .                   quosures_results[[k]] <- list(result = result, \n  .                     chunks = chunks)\n  .                 }\n  .                 for (k in seq_along(quosures)) {\n  .                   quo <- quosures[[k]]\n  .                   quo_data <- attr(quo, \"dplyr:::data\")\n  .                   quo_result <- quosures_results[[k]]\n  .                   if (is.null(quo_result)) {\n  .                     if (quo_data$is_named) {\n  .                       name <- quo_data$name_given\n  .                       new_columns[[name]] <- zap()\n  .                       mask$remove(name)\n  .                     }\n  .                     next\n  .                   }\n  .                   result <- quo_result$result\n  .                   chunks <- quo_result$chunks\n  .                   if (!quo_data$is_named && is.data.frame(result)) {\n  .                     new_columns[names(result)] <- result\n  .                     mask$add_many(result, chunks)\n  .                   }\n  .                   else {\n  .                     name <- quo_data$name_auto\n  .                     new_columns[[name]] <- result\n  .                     mask$add_one(name, chunks)\n  .                   }\n  .                 }\n  .             }\n  .         }, error = function(e) {\n  .             local_call_step(dots = dots, .index = i, .fn = \"mutate\", \n  .                 .dot_data = inherits(e, \"rlang_error_data_pronoun_not_found\"))\n  .             call_step_envir <- peek_call_step()\n  .             error_name <- call_step_envir$error_name\n  .             error_expression <- call_step_envir$error_expression\n  .             show_group_details <- TRUE\n  .             if (inherits(e, \"dplyr:::mutate_incompatible_size\")) {\n  .                 size <- vec_size(rows[[mask$get_current_group()]])\n  .                 x_size <- e$x_size\n  .                 bullets <- c(x = glue(\"Input `{error_name}` can't be recycled to size {size}.\"), \n  .                   i = cnd_bullet_input_info(), i = glue(\"Input `{error_name}` must be size {or_1(size)}, not {x_size}.\"), \n  .                   i = cnd_bullet_rowwise_unlist())\n  .             }\n  .             else if (inherits(e, \"dplyr:::mutate_mixed_null\")) {\n  .                 show_group_details <- FALSE\n  .                 bullets <- c(x = glue(\"`{error_name}` must return compatible vectors across groups.\"), \n  .                   i = cnd_bullet_input_info(), i = \"Cannot combine NULL and non NULL results.\", \n  .                   i = cnd_bullet_rowwise_unlist())\n  .             }\n  .             else if (inherits(e, \"dplyr:::mutate_not_vector\")) {\n  .                 bullets <- c(x = glue(\"Input `{error_name}` must be a vector, not {friendly_type_of(e$result)}.\"), \n  .                   i = cnd_bullet_input_info(), i = cnd_bullet_rowwise_unlist())\n  .             }\n  .             else if (inherits(e, \"dplyr:::error_mutate_incompatible_combine\")) {\n  .                 show_group_details <- FALSE\n  .                 bullets <- c(x = glue(\"Input `{error_name}` must return compatible vectors across groups\"), \n  .                   i = cnd_bullet_input_info(), i = cnd_bullet_combine_details(e$parent$x, \n  .                     e$parent$x_arg), i = cnd_bullet_combine_details(e$parent$y, \n  .                     e$parent$y_arg))\n  .             }\n  .             else {\n  .                 bullets <- c(x = conditionMessage(e), i = cnd_bullet_input_info())\n  .             }\n  .             bullets <- c(cnd_bullet_header(), bullets, i = if (show_group_details) cnd_bullet_cur_group_label())\n  .             abort(bullets, class = c(\"dplyr:::mutate_error\", \n  .                 \"dplyr_error\"), error_name = error_name, error_expression = error_expression, \n  .                 parent = e, bullets = bullets)\n  .         }, warning = function(w) {\n  .             if (check_muffled_warning(w)) {\n  .                 maybe_restart(\"muffleWarning\")\n  .             }\n  .             local_call_step(dots = dots, .index = i, .fn = \"mutate\")\n  .             warn(c(cnd_bullet_header(), i = conditionMessage(w), \n  .                 i = cnd_bullet_input_info(), i = cnd_bullet_cur_group_label(what = \"warning\")))\n  .             maybe_restart(\"muffleWarning\")\n  .         }), mask$eval_all_mutate(quo), base::.handleSimpleError(function (e) \n  .         {\n  .             local_call_step(dots = dots, .index = i, .fn = \"mutate\", \n  .                 .dot_data = inherits(e, \"rlang_error_data_pronoun_not_found\"))\n  .             call_step_envir <- peek_call_step()\n  .             error_name <- call_step_envir$error_name\n  .             error_expression <- call_step_envir$error_expression\n  .             show_group_details <- TRUE\n  .             if (inherits(e, \"dplyr:::mutate_incompatible_size\")) {\n  .                 size <- vec_size(rows[[mask$get_current_group()]])\n  .                 x_size <- e$x_size\n  .                 bullets <- c(x = glue(\"Input `{error_name}` can't be recycled to size {size}.\"), \n  .                   i = cnd_bullet_input_info(), i = glue(\"Input `{error_name}` must be size {or_1(size)}, not {x_size}.\"), \n  .                   i = cnd_bullet_rowwise_unlist())\n  .             }\n  .             else if (inherits(e, \"dplyr:::mutate_mixed_null\")) {\n  .                 show_group_details <- FALSE\n  .                 bullets <- c(x = glue(\"`{error_name}` must return compatible vectors across groups.\"), \n  .                   i = cnd_bullet_input_info(), i = \"Cannot combine NULL and non NULL results.\", \n  .                   i = cnd_bullet_rowwise_unlist())\n  .             }\n  .             else if (inherits(e, \"dplyr:::mutate_not_vector\")) {\n  .                 bullets <- c(x = glue(\"Input `{error_name}` must be a vector, not {friendly_type_of(e$result)}.\"), \n  .                   i = cnd_bullet_input_info(), i = cnd_bullet_rowwise_unlist())\n  .             }\n  .             else if (inherits(e, \"dplyr:::error_mutate_incompatible_combine\")) {\n  .                 show_group_details <- FALSE\n  .                 bullets <- c(x = glue(\"Input `{error_name}` must return compatible vectors across groups\"), \n  .                   i = cnd_bullet_input_info(), i = cnd_bullet_combine_details(e$parent$x, \n  .                     e$parent$x_arg), i = cnd_bullet_combine_details(e$parent$y, \n  .                     e$parent$y_arg))\n  .             }\n  .             else {\n  .                 bullets <- c(x = conditionMessage(e), i = cnd_bullet_input_info())\n  .             }\n  .             bullets <- c(cnd_bullet_header(), bullets, i = if (show_group_details) cnd_bullet_cur_group_label())\n  .             abort(bullets, class = c(\"dplyr:::mutate_error\", \n  .                 \"dplyr_error\"), error_name = error_name, error_expression = error_expression, \n  .                 parent = e, bullets = bullets)\n  .         }, \"object 'freg' not found\", base::quote(mask$eval_all_mutate(quo))), \n  .         dplyr:::h(simpleError(msg, call))), parents = c(0L, 1L, \n  .     2L, 3L, 4L, 5L, 6L, 7L, 6L, 9L, 10L, 4L, 12L, 13L, 13L, 15L, \n  .     16L, 17L, 18L, 19L, 13L, 13L, 13L, 23L, 0L, 0L, 26L, 27L, \n  .     27L, 27L, 30L, 30L, 32L, 33L, 33L, 0L, 36L), indices = 1:37), class = \"rlang_trace\", version = 1L), \n  .     parent = structure(list(message = \"object 'freg' not found\", \n  .         call = mask$eval_all_mutate(quo)), class = c(\"simpleError\", \n  .     \"error\", \"condition\")), error_name = \"^^--arrange_quosure_1\", \n  .     error_expression = \"freg\", bullets = c(\"Problem with `mutate()` input `^^--arrange_quosure_1`.\", \n  .     x = \"object 'freg' not found\", i = \"Input `^^--arrange_quosure_1` is `freg`.\"\n  .     )), class = c(\"dplyr:::mutate_error\", \"dplyr_error\", \"rlang_error\", \n  . \"error\", \"condition\")))",
            "18. abort(c(\"arrange() failed at implicit mutate() step. \", bullets), \n  .     class = \"dplyr_error\")",
            "19. signal_abort(cnd)"
          ]
        }
      ]
    },
    {
      "cell_type": "code",
      "metadata": {
        "colab": {
          "base_uri": "https://localhost:8080/",
          "height": 437
        },
        "id": "qGR0Xzs1Z0o-",
        "outputId": "753c0e4d-337a-4471-feba-1ca6aefc341b"
      },
      "source": [
        "par(family = (\"Microsoft YaHei\"))\n",
        "wordcloud(txt_freq$char,txt_freq$freq,min.freq = 2,random.order = F,ordered.colors = F,colors = rainbow(row(txt_freq)))"
      ],
      "execution_count": 77,
      "outputs": [
        {
          "output_type": "display_data",
          "data": {
            "image/png": "[encoded data removed]",
            "text/plain": [
              "plot without title"
            ]
          },
          "metadata": {
            "tags": [],
            "image/png": {
              "width": 420,
              "height": 420
            }
          }
        }
      ]
    },
    {
      "cell_type": "code",
      "metadata": {
        "colab": {
          "base_uri": "https://localhost:8080/"
        },
        "id": "GBfDAm6JXFFF",
        "outputId": "db02ca6a-5c4f-4fd1-9c1d-85968f9b7bf4"
      },
      "source": [
        "install.packages(\"showtext\")"
      ],
      "execution_count": 73,
      "outputs": [
        {
          "output_type": "stream",
          "text": [
            "Installing package into ‘/usr/local/lib/R/site-library’\n",
            "(as ‘lib’ is unspecified)\n",
            "\n"
          ],
          "name": "stderr"
        }
      ]
    },
    {
      "cell_type": "code",
      "metadata": {
        "id": "w5RVXSP6XNfV"
      },
      "source": [
        "library(\"showtext\")"
      ],
      "execution_count": 75,
      "outputs": []
    }
  ]
}