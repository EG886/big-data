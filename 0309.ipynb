{
  "nbformat": 4,
  "nbformat_minor": 0,
  "metadata": {
    "colab": {
      "name": "0309.ipynb",
      "provenance": [],
      "collapsed_sections": [],
      "include_colab_link": true
    },
    "kernelspec": {
      "name": "ir",
      "display_name": "R"
    }
  },
  "cells": [
    {
      "cell_type": "markdown",
      "metadata": {
        "id": "view-in-github",
        "colab_type": "text"
      },
      "source": [
        "<a href=\"https://colab.research.google.com/github/EG886/big-data/blob/main/0309.ipynb\" target=\"_parent\"><img src=\"https://colab.research.google.com/assets/colab-badge.svg\" alt=\"Open In Colab\"/></a>"
      ]
    },
    {
      "cell_type": "markdown",
      "metadata": {
        "id": "OG-DsnFJEi3N"
      },
      "source": [
        "變數練習"
      ]
    },
    {
      "cell_type": "code",
      "metadata": {
        "id": "k3ypEd5oOaz0"
      },
      "source": [
        "a <- 5\r\n",
        "b <- 3.8\r\n",
        "c <- -1"
      ],
      "execution_count": null,
      "outputs": []
    },
    {
      "cell_type": "code",
      "metadata": {
        "colab": {
          "base_uri": "https://localhost:8080/"
        },
        "id": "_npa0lHFEhGU",
        "outputId": "5666aa5a-d5e0-4381-e2b6-398659cb67d6"
      },
      "source": [
        "str(a)\r\n",
        "str(b)\r\n",
        "str(c)"
      ],
      "execution_count": null,
      "outputs": [
        {
          "output_type": "stream",
          "text": [
            " num 5\n",
            " num 3.8\n",
            " num -1\n"
          ],
          "name": "stdout"
        }
      ]
    },
    {
      "cell_type": "code",
      "metadata": {
        "colab": {
          "base_uri": "https://localhost:8080/",
          "height": 68
        },
        "id": "0qZLpLkhITNd",
        "outputId": "9e142d4e-3f9c-4046-9b03-aa5d298bfaae"
      },
      "source": [
        "is.numeric(a)\r\n",
        "is.numeric(b)\r\n",
        "is.numeric(c)"
      ],
      "execution_count": null,
      "outputs": [
        {
          "output_type": "display_data",
          "data": {
            "text/plain": [
              "[1] TRUE"
            ],
            "text/latex": "TRUE",
            "text/markdown": "TRUE",
            "text/html": [
              "TRUE"
            ]
          },
          "metadata": {
            "tags": []
          }
        },
        {
          "output_type": "display_data",
          "data": {
            "text/plain": [
              "[1] TRUE"
            ],
            "text/latex": "TRUE",
            "text/markdown": "TRUE",
            "text/html": [
              "TRUE"
            ]
          },
          "metadata": {
            "tags": []
          }
        },
        {
          "output_type": "display_data",
          "data": {
            "text/plain": [
              "[1] TRUE"
            ],
            "text/latex": "TRUE",
            "text/markdown": "TRUE",
            "text/html": [
              "TRUE"
            ]
          },
          "metadata": {
            "tags": []
          }
        }
      ]
    },
    {
      "cell_type": "code",
      "metadata": {
        "colab": {
          "base_uri": "https://localhost:8080/"
        },
        "id": "hfL7KjYtJCXF",
        "outputId": "28bc11fe-926f-4d7e-8afe-3243f486aaad"
      },
      "source": [
        "d <- \"hello\"\r\n",
        "e <- \"hi\"\r\n",
        "str(d)\r\n",
        "str(e)"
      ],
      "execution_count": null,
      "outputs": [
        {
          "output_type": "stream",
          "text": [
            " chr \"hello\"\n",
            " chr \"hi\"\n"
          ],
          "name": "stdout"
        }
      ]
    },
    {
      "cell_type": "code",
      "metadata": {
        "id": "VJ_-L-vKJ5kV"
      },
      "source": [
        "f <- c(1,2,3,4,5)\r\n",
        "g <- c(\"jim\",\"jenny\",\"jake\")"
      ],
      "execution_count": null,
      "outputs": []
    },
    {
      "cell_type": "code",
      "metadata": {
        "colab": {
          "base_uri": "https://localhost:8080/",
          "height": 68
        },
        "id": "QXFUdrliLdtM",
        "outputId": "deac88bf-06b2-4f2f-ecdb-a741070524d0"
      },
      "source": [
        "f[2]\r\n",
        "g[3]\r\n",
        "g[c(1,2)]"
      ],
      "execution_count": null,
      "outputs": [
        {
          "output_type": "display_data",
          "data": {
            "text/plain": [
              "[1] 2"
            ],
            "text/latex": "2",
            "text/markdown": "2",
            "text/html": [
              "2"
            ]
          },
          "metadata": {
            "tags": []
          }
        },
        {
          "output_type": "display_data",
          "data": {
            "text/plain": [
              "[1] \"jake\""
            ],
            "text/latex": "'jake'",
            "text/markdown": "'jake'",
            "text/html": [
              "'jake'"
            ]
          },
          "metadata": {
            "tags": []
          }
        },
        {
          "output_type": "display_data",
          "data": {
            "text/plain": [
              "[1] \"jim\"   \"jenny\""
            ],
            "text/latex": "\\begin{enumerate*}\n\\item 'jim'\n\\item 'jenny'\n\\end{enumerate*}\n",
            "text/markdown": "1. 'jim'\n2. 'jenny'\n\n\n",
            "text/html": [
              "<style>\n",
              ".list-inline {list-style: none; margin:0; padding: 0}\n",
              ".list-inline>li {display: inline-block}\n",
              ".list-inline>li:not(:last-child)::after {content: \"\\00b7\"; padding: 0 .5ex}\n",
              "</style>\n",
              "<ol class=list-inline><li>'jim'</li><li>'jenny'</li></ol>\n"
            ]
          },
          "metadata": {
            "tags": []
          }
        }
      ]
    },
    {
      "cell_type": "code",
      "metadata": {
        "id": "NsnE1sEJM-Xl"
      },
      "source": [
        "h <- c(1,2,3,4,5,6,7,8)\r\n",
        "i <- c(2,3,4,5,6,7,8,9)"
      ],
      "execution_count": null,
      "outputs": []
    },
    {
      "cell_type": "code",
      "metadata": {
        "colab": {
          "base_uri": "https://localhost:8080/",
          "height": 34
        },
        "id": "6K8JWFmBN4Vk",
        "outputId": "4cecf896-cc17-4b8b-b916-18074d6c88d5"
      },
      "source": [
        "h+i"
      ],
      "execution_count": null,
      "outputs": [
        {
          "output_type": "display_data",
          "data": {
            "text/plain": [
              "[1]  3  5  7  9 11 13 15 17"
            ],
            "text/latex": "\\begin{enumerate*}\n\\item 3\n\\item 5\n\\item 7\n\\item 9\n\\item 11\n\\item 13\n\\item 15\n\\item 17\n\\end{enumerate*}\n",
            "text/markdown": "1. 3\n2. 5\n3. 7\n4. 9\n5. 11\n6. 13\n7. 15\n8. 17\n\n\n",
            "text/html": [
              "<style>\n",
              ".list-inline {list-style: none; margin:0; padding: 0}\n",
              ".list-inline>li {display: inline-block}\n",
              ".list-inline>li:not(:last-child)::after {content: \"\\00b7\"; padding: 0 .5ex}\n",
              "</style>\n",
              "<ol class=list-inline><li>3</li><li>5</li><li>7</li><li>9</li><li>11</li><li>13</li><li>15</li><li>17</li></ol>\n"
            ]
          },
          "metadata": {
            "tags": []
          }
        }
      ]
    },
    {
      "cell_type": "code",
      "metadata": {
        "colab": {
          "base_uri": "https://localhost:8080/",
          "height": 34
        },
        "id": "iW6YcS8uNRf1",
        "outputId": "3ee0fb4d-6b83-4be8-82b4-6efe292ead5d"
      },
      "source": [
        "h^3"
      ],
      "execution_count": null,
      "outputs": [
        {
          "output_type": "display_data",
          "data": {
            "text/plain": [
              "[1]   1   8  27  64 125 216 343 512"
            ],
            "text/latex": "\\begin{enumerate*}\n\\item 1\n\\item 8\n\\item 27\n\\item 64\n\\item 125\n\\item 216\n\\item 343\n\\item 512\n\\end{enumerate*}\n",
            "text/markdown": "1. 1\n2. 8\n3. 27\n4. 64\n5. 125\n6. 216\n7. 343\n8. 512\n\n\n",
            "text/html": [
              "<style>\n",
              ".list-inline {list-style: none; margin:0; padding: 0}\n",
              ".list-inline>li {display: inline-block}\n",
              ".list-inline>li:not(:last-child)::after {content: \"\\00b7\"; padding: 0 .5ex}\n",
              "</style>\n",
              "<ol class=list-inline><li>1</li><li>8</li><li>27</li><li>64</li><li>125</li><li>216</li><li>343</li><li>512</li></ol>\n"
            ]
          },
          "metadata": {
            "tags": []
          }
        }
      ]
    },
    {
      "cell_type": "code",
      "metadata": {
        "colab": {
          "base_uri": "https://localhost:8080/",
          "height": 34
        },
        "id": "GXZkzq7_OnLF",
        "outputId": "ec063a5a-249f-4cbb-eec7-dbcc8f314c40"
      },
      "source": [
        "i>5"
      ],
      "execution_count": null,
      "outputs": [
        {
          "output_type": "display_data",
          "data": {
            "text/plain": [
              "[1] FALSE FALSE FALSE FALSE  TRUE  TRUE  TRUE  TRUE"
            ],
            "text/latex": "\\begin{enumerate*}\n\\item FALSE\n\\item FALSE\n\\item FALSE\n\\item FALSE\n\\item TRUE\n\\item TRUE\n\\item TRUE\n\\item TRUE\n\\end{enumerate*}\n",
            "text/markdown": "1. FALSE\n2. FALSE\n3. FALSE\n4. FALSE\n5. TRUE\n6. TRUE\n7. TRUE\n8. TRUE\n\n\n",
            "text/html": [
              "<style>\n",
              ".list-inline {list-style: none; margin:0; padding: 0}\n",
              ".list-inline>li {display: inline-block}\n",
              ".list-inline>li:not(:last-child)::after {content: \"\\00b7\"; padding: 0 .5ex}\n",
              "</style>\n",
              "<ol class=list-inline><li>FALSE</li><li>FALSE</li><li>FALSE</li><li>FALSE</li><li>TRUE</li><li>TRUE</li><li>TRUE</li><li>TRUE</li></ol>\n"
            ]
          },
          "metadata": {
            "tags": []
          }
        }
      ]
    },
    {
      "cell_type": "code",
      "metadata": {
        "colab": {
          "base_uri": "https://localhost:8080/",
          "height": 68
        },
        "id": "PcD28PQgOvF0",
        "outputId": "a3029256-22a4-414f-8277-6a7b7000c934"
      },
      "source": [
        "gender <- c(\"male\",\"female\",\"female\",\"male\",\"male\")\r\n",
        "gender <- factor(gender)\r\n",
        "gender\r\n",
        "levels(gender)"
      ],
      "execution_count": null,
      "outputs": [
        {
          "output_type": "display_data",
          "data": {
            "text/plain": [
              "[1] male   female female male   male  \n",
              "Levels: female male"
            ],
            "text/latex": "\\begin{enumerate*}\n\\item male\n\\item female\n\\item female\n\\item male\n\\item male\n\\end{enumerate*}\n\n\\emph{Levels}: \\begin{enumerate*}\n\\item 'female'\n\\item 'male'\n\\end{enumerate*}\n",
            "text/markdown": "1. male\n2. female\n3. female\n4. male\n5. male\n\n\n\n**Levels**: 1. 'female'\n2. 'male'\n\n\n",
            "text/html": [
              "<style>\n",
              ".list-inline {list-style: none; margin:0; padding: 0}\n",
              ".list-inline>li {display: inline-block}\n",
              ".list-inline>li:not(:last-child)::after {content: \"\\00b7\"; padding: 0 .5ex}\n",
              "</style>\n",
              "<ol class=list-inline><li>male</li><li>female</li><li>female</li><li>male</li><li>male</li></ol>\n",
              "\n",
              "<details>\n",
              "\t<summary style=display:list-item;cursor:pointer>\n",
              "\t\t<strong>Levels</strong>:\n",
              "\t</summary>\n",
              "\t<style>\n",
              "\t.list-inline {list-style: none; margin:0; padding: 0}\n",
              "\t.list-inline>li {display: inline-block}\n",
              "\t.list-inline>li:not(:last-child)::after {content: \"\\00b7\"; padding: 0 .5ex}\n",
              "\t</style>\n",
              "\t<ol class=list-inline><li>'female'</li><li>'male'</li></ol>\n",
              "</details>"
            ]
          },
          "metadata": {
            "tags": []
          }
        },
        {
          "output_type": "display_data",
          "data": {
            "text/plain": [
              "[1] \"female\" \"male\"  "
            ],
            "text/latex": "\\begin{enumerate*}\n\\item 'female'\n\\item 'male'\n\\end{enumerate*}\n",
            "text/markdown": "1. 'female'\n2. 'male'\n\n\n",
            "text/html": [
              "<style>\n",
              ".list-inline {list-style: none; margin:0; padding: 0}\n",
              ".list-inline>li {display: inline-block}\n",
              ".list-inline>li:not(:last-child)::after {content: \"\\00b7\"; padding: 0 .5ex}\n",
              "</style>\n",
              "<ol class=list-inline><li>'female'</li><li>'male'</li></ol>\n"
            ]
          },
          "metadata": {
            "tags": []
          }
        }
      ]
    },
    {
      "cell_type": "code",
      "metadata": {
        "id": "OFy2DhYPP__t"
      },
      "source": [
        "j <- matrix(c(1:6), nrow=3, nocl=2)\r\n",
        "j\r\n",
        "k <- matrix(c(7:12), nrow=2, nocl=3)\r\n",
        "k"
      ],
      "execution_count": null,
      "outputs": []
    },
    {
      "cell_type": "code",
      "metadata": {
        "id": "9L9G_sZaRMYU"
      },
      "source": [
        "j[2,2]"
      ],
      "execution_count": null,
      "outputs": []
    },
    {
      "cell_type": "code",
      "metadata": {
        "colab": {
          "base_uri": "https://localhost:8080/"
        },
        "id": "-U2YYRcrR9os",
        "outputId": "3e066c22-4f23-4b39-eae0-1d88c9233654"
      },
      "source": [
        "install.packages(\"SportsAnalytics\")"
      ],
      "execution_count": null,
      "outputs": [
        {
          "output_type": "stream",
          "text": [
            "Installing package into ‘/usr/local/lib/R/site-library’\n",
            "(as ‘lib’ is unspecified)\n",
            "\n"
          ],
          "name": "stderr"
        }
      ]
    },
    {
      "cell_type": "code",
      "metadata": {
        "id": "e8GMlnFfSuPr"
      },
      "source": [
        "library(\"SportsAnalytics\")\r\n",
        "NBA1516<-fetch_NBAPlayerStatistics(\"15-16\")"
      ],
      "execution_count": null,
      "outputs": []
    },
    {
      "cell_type": "code",
      "metadata": {
        "colab": {
          "base_uri": "https://localhost:8080/"
        },
        "id": "SK7wcBhfTi8k",
        "outputId": "439b6793-f7aa-4c2f-993b-f92226e74572"
      },
      "source": [
        "str(NBA1516)"
      ],
      "execution_count": null,
      "outputs": [
        {
          "output_type": "stream",
          "text": [
            "'data.frame':\t476 obs. of  25 variables:\n",
            " $ League             : Factor w/ 1 level \"NBA\": 1 1 1 1 1 1 1 1 1 1 ...\n",
            " $ Name               : chr  \"Quincy Acy\" \"Jordan Adams\" \"Steven Adams\" \"Arron Afflalo\" ...\n",
            " $ Team               : Factor w/ 31 levels \"ATL\",\"BOS\",\"BRO\",..: 27 15 22 20 19 13 28 26 12 15 ...\n",
            " $ Position           : Factor w/ 5 levels \"C\",\"PF\",\"PG\",..: 4 5 1 5 1 1 2 2 2 5 ...\n",
            " $ GamesPlayed        : int  59 2 80 71 59 60 74 9 79 64 ...\n",
            " $ TotalMinutesPlayed : int  877 15 2019 2359 863 802 2260 37 1601 1622 ...\n",
            " $ FieldGoalsMade     : int  119 2 261 354 150 134 536 5 191 215 ...\n",
            " $ FieldGoalsAttempted: int  214 6 426 799 314 225 1045 10 370 469 ...\n",
            " $ ThreesMade         : int  19 0 0 91 0 0 0 0 0 15 ...\n",
            " $ ThreesAttempted    : int  49 1 0 238 1 0 16 0 0 42 ...\n",
            " $ FreeThrowsMade     : int  50 3 114 110 52 60 259 0 46 90 ...\n",
            " $ FreeThrowsAttempted: int  68 5 196 131 62 84 302 0 73 138 ...\n",
            " $ OffensiveRebounds  : int  65 0 218 23 75 86 175 2 162 104 ...\n",
            " $ TotalRebounds      : int  188 2 531 266 269 288 631 6 424 297 ...\n",
            " $ Assists            : int  27 3 61 145 32 50 110 0 76 70 ...\n",
            " $ Steals             : int  29 3 42 25 19 47 38 1 26 109 ...\n",
            " $ Turnovers          : int  27 2 84 82 54 64 99 1 69 78 ...\n",
            " $ Blocks             : int  24 0 89 10 36 68 81 2 42 18 ...\n",
            " $ PersonalFouls      : int  103 2 223 142 134 139 151 1 147 175 ...\n",
            " $ Disqualifications  : int  0 0 2 1 0 1 0 0 1 1 ...\n",
            " $ TotalPoints        : int  307 7 636 909 352 328 1331 10 428 535 ...\n",
            " $ Technicals         : int  3 0 2 1 2 0 0 0 0 1 ...\n",
            " $ Ejections          : int  0 0 0 0 0 0 0 0 0 0 ...\n",
            " $ FlagrantFouls      : int  0 0 0 0 0 0 0 0 0 0 ...\n",
            " $ GamesStarted       : int  29 0 80 57 17 5 74 0 28 56 ...\n"
          ],
          "name": "stdout"
        }
      ]
    },
    {
      "cell_type": "code",
      "metadata": {
        "id": "CKijzXTlT7uD"
      },
      "source": [
        "NBA1516[GREPL(\"Curry\",NBA1516$Name)]"
      ],
      "execution_count": null,
      "outputs": []
    }
  ]
}